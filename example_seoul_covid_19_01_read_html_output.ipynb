{
  "nbformat": 4,
  "nbformat_minor": 0,
  "metadata": {
    "kernelspec": {
      "display_name": "Python 3",
      "language": "python",
      "name": "python3"
    },
    "language_info": {
      "codemirror_mode": {
        "name": "ipython",
        "version": 3
      },
      "file_extension": ".py",
      "mimetype": "text/x-python",
      "name": "python",
      "nbconvert_exporter": "python",
      "pygments_lexer": "ipython3",
      "version": "3.7.6"
    },
    "toc": {
      "base_numbering": 1,
      "nav_menu": {},
      "number_sections": true,
      "sideBar": true,
      "skip_h1_title": false,
      "title_cell": "Table of Contents",
      "title_sidebar": "Contents",
      "toc_cell": false,
      "toc_position": {},
      "toc_section_display": true,
      "toc_window_display": false
    },
    "varInspector": {
      "cols": {
        "lenName": 16,
        "lenType": 16,
        "lenVar": 40
      },
      "kernels_config": {
        "python": {
          "delete_cmd_postfix": "",
          "delete_cmd_prefix": "del ",
          "library": "var_list.py",
          "varRefreshCmd": "print(var_dic_list())"
        },
        "r": {
          "delete_cmd_postfix": ") ",
          "delete_cmd_prefix": "rm(",
          "library": "var_list.r",
          "varRefreshCmd": "cat(var_dic_list()) "
        }
      },
      "types_to_exclude": [
        "module",
        "function",
        "builtin_function_or_method",
        "instance",
        "_Feature"
      ],
      "window_display": false
    },
    "colab": {
      "name": "example_seoul-covid-19-01-read_html-output.ipynb",
      "provenance": [],
      "include_colab_link": true
    }
  },
  "cells": [
    {
      "cell_type": "markdown",
      "metadata": {
        "id": "view-in-github",
        "colab_type": "text"
      },
      "source": [
        "<a href=\"https://colab.research.google.com/github/Maiven/Python/blob/master/example_seoul_covid_19_01_read_html_output.ipynb\" target=\"_parent\"><img src=\"https://colab.research.google.com/assets/colab-badge.svg\" alt=\"Open In Colab\"/></a>"
      ]
    },
    {
      "cell_type": "markdown",
      "metadata": {
        "id": "YZNvgfaxt_xE",
        "colab_type": "text"
      },
      "source": [
        "## 서울시에서 공개한 코로나19 발생동향 분석\n",
        "* http://www.seoul.go.kr/coronaV/coronaStatus.do"
      ]
    },
    {
      "cell_type": "code",
      "metadata": {
        "id": "T81Z72Mqt_xG",
        "colab_type": "code",
        "colab": {}
      },
      "source": [
        "import pandas as pd\n",
        "import numpy as np"
      ],
      "execution_count": null,
      "outputs": []
    },
    {
      "cell_type": "code",
      "metadata": {
        "id": "iPgErpMMt_xP",
        "colab_type": "code",
        "colab": {},
        "outputId": "6a55e264-0c70-405f-be62-02da8927b936"
      },
      "source": [
        "url = \"http://www.seoul.go.kr/coronaV/coronaStatus.do\"\n",
        "url"
      ],
      "execution_count": null,
      "outputs": [
        {
          "output_type": "execute_result",
          "data": {
            "text/plain": [
              "'http://www.seoul.go.kr/coronaV/coronaStatus.do'"
            ]
          },
          "metadata": {
            "tags": []
          },
          "execution_count": 2
        }
      ]
    },
    {
      "cell_type": "code",
      "metadata": {
        "id": "b_Ybqj1wt_xZ",
        "colab_type": "code",
        "colab": {},
        "outputId": "a1e31e3f-2a16-4138-8b1d-63a276c39f33"
      },
      "source": [
        "table = pd.read_html(url)\n",
        "len(table)"
      ],
      "execution_count": null,
      "outputs": [
        {
          "output_type": "execute_result",
          "data": {
            "text/plain": [
              "6"
            ]
          },
          "metadata": {
            "tags": []
          },
          "execution_count": 3
        }
      ]
    },
    {
      "cell_type": "code",
      "metadata": {
        "id": "E_MJe6ACt_xh",
        "colab_type": "code",
        "colab": {},
        "outputId": "e7370065-82a8-4e6f-aa27-6971a0c440a7"
      },
      "source": [
        "table[0].T"
      ],
      "execution_count": null,
      "outputs": [
        {
          "output_type": "execute_result",
          "data": {
            "text/html": [
              "<div>\n",
              "<style scoped>\n",
              "    .dataframe tbody tr th:only-of-type {\n",
              "        vertical-align: middle;\n",
              "    }\n",
              "\n",
              "    .dataframe tbody tr th {\n",
              "        vertical-align: top;\n",
              "    }\n",
              "\n",
              "    .dataframe thead th {\n",
              "        text-align: right;\n",
              "    }\n",
              "</style>\n",
              "<table border=\"1\" class=\"dataframe\">\n",
              "  <thead>\n",
              "    <tr style=\"text-align: right;\">\n",
              "      <th></th>\n",
              "      <th>0</th>\n",
              "    </tr>\n",
              "  </thead>\n",
              "  <tbody>\n",
              "    <tr>\n",
              "      <th>소계</th>\n",
              "      <td>1284</td>\n",
              "    </tr>\n",
              "    <tr>\n",
              "      <th>해외접촉관련</th>\n",
              "      <td>300</td>\n",
              "    </tr>\n",
              "    <tr>\n",
              "      <th>관악구왕성교회관련</th>\n",
              "      <td>21</td>\n",
              "    </tr>\n",
              "    <tr>\n",
              "      <th>강남구역삼동모임</th>\n",
              "      <td>10</td>\n",
              "    </tr>\n",
              "    <tr>\n",
              "      <th>도봉구요양시설관련</th>\n",
              "      <td>43</td>\n",
              "    </tr>\n",
              "    <tr>\n",
              "      <th>리치웨이관련</th>\n",
              "      <td>119</td>\n",
              "    </tr>\n",
              "    <tr>\n",
              "      <th>부천시쿠팡관련</th>\n",
              "      <td>24</td>\n",
              "    </tr>\n",
              "    <tr>\n",
              "      <th>kb생명보험관련</th>\n",
              "      <td>13</td>\n",
              "    </tr>\n",
              "    <tr>\n",
              "      <th>수도권개척교회관련</th>\n",
              "      <td>37</td>\n",
              "    </tr>\n",
              "    <tr>\n",
              "      <th>양천구운동시설관련</th>\n",
              "      <td>43</td>\n",
              "    </tr>\n",
              "    <tr>\n",
              "      <th>금천구도정기회사 관련</th>\n",
              "      <td>6</td>\n",
              "    </tr>\n",
              "    <tr>\n",
              "      <th>이태원클럽관련</th>\n",
              "      <td>139</td>\n",
              "    </tr>\n",
              "    <tr>\n",
              "      <th>구로구콜센터관련</th>\n",
              "      <td>98</td>\n",
              "    </tr>\n",
              "    <tr>\n",
              "      <th>타 시·도확진자접촉자</th>\n",
              "      <td>37</td>\n",
              "    </tr>\n",
              "    <tr>\n",
              "      <th>기타</th>\n",
              "      <td>293</td>\n",
              "    </tr>\n",
              "    <tr>\n",
              "      <th>경로확인중</th>\n",
              "      <td>114</td>\n",
              "    </tr>\n",
              "  </tbody>\n",
              "</table>\n",
              "</div>"
            ],
            "text/plain": [
              "                0\n",
              "소계           1284\n",
              "해외접촉관련        300\n",
              "관악구왕성교회관련      21\n",
              "강남구역삼동모임       10\n",
              "도봉구요양시설관련      43\n",
              "리치웨이관련        119\n",
              "부천시쿠팡관련        24\n",
              "kb생명보험관련       13\n",
              "수도권개척교회관련      37\n",
              "양천구운동시설관련      43\n",
              "금천구도정기회사 관련     6\n",
              "이태원클럽관련       139\n",
              "구로구콜센터관련       98\n",
              "타 시·도확진자접촉자    37\n",
              "기타            293\n",
              "경로확인중         114"
            ]
          },
          "metadata": {
            "tags": []
          },
          "execution_count": 4
        }
      ]
    },
    {
      "cell_type": "code",
      "metadata": {
        "id": "t0MHKBvbt_xn",
        "colab_type": "code",
        "colab": {},
        "outputId": "e318d43b-552d-46a9-cd73-8b42f36213e6"
      },
      "source": [
        "df = table[4]\n",
        "df.shape"
      ],
      "execution_count": null,
      "outputs": [
        {
          "output_type": "execute_result",
          "data": {
            "text/plain": [
              "(1298, 7)"
            ]
          },
          "metadata": {
            "tags": []
          },
          "execution_count": 5
        }
      ]
    },
    {
      "cell_type": "code",
      "metadata": {
        "id": "cV3ZMmv1t_xu",
        "colab_type": "code",
        "colab": {},
        "outputId": "a8225b91-4727-4320-bef8-06ea26593d28"
      },
      "source": [
        "df.head()"
      ],
      "execution_count": null,
      "outputs": [
        {
          "output_type": "execute_result",
          "data": {
            "text/html": [
              "<div>\n",
              "<style scoped>\n",
              "    .dataframe tbody tr th:only-of-type {\n",
              "        vertical-align: middle;\n",
              "    }\n",
              "\n",
              "    .dataframe tbody tr th {\n",
              "        vertical-align: top;\n",
              "    }\n",
              "\n",
              "    .dataframe thead th {\n",
              "        text-align: right;\n",
              "    }\n",
              "</style>\n",
              "<table border=\"1\" class=\"dataframe\">\n",
              "  <thead>\n",
              "    <tr style=\"text-align: right;\">\n",
              "      <th></th>\n",
              "      <th>연번</th>\n",
              "      <th>환자</th>\n",
              "      <th>확진일</th>\n",
              "      <th>거주지</th>\n",
              "      <th>여행력</th>\n",
              "      <th>접촉력</th>\n",
              "      <th>조치사항</th>\n",
              "    </tr>\n",
              "  </thead>\n",
              "  <tbody>\n",
              "    <tr>\n",
              "      <th>0</th>\n",
              "      <td>1298</td>\n",
              "      <td>12696</td>\n",
              "      <td>6.27.</td>\n",
              "      <td>송파구</td>\n",
              "      <td>-</td>\n",
              "      <td>강남구 역삼동 모임</td>\n",
              "      <td>서울대학병원</td>\n",
              "    </tr>\n",
              "    <tr>\n",
              "      <th>1</th>\n",
              "      <td>1297</td>\n",
              "      <td>12693</td>\n",
              "      <td>6.27.</td>\n",
              "      <td>영등포구</td>\n",
              "      <td>-</td>\n",
              "      <td>확인 중</td>\n",
              "      <td>서남병원</td>\n",
              "    </tr>\n",
              "    <tr>\n",
              "      <th>2</th>\n",
              "      <td>1296</td>\n",
              "      <td>12694</td>\n",
              "      <td>6.27.</td>\n",
              "      <td>관악구</td>\n",
              "      <td>-</td>\n",
              "      <td>확인 중</td>\n",
              "      <td>강남성심병원</td>\n",
              "    </tr>\n",
              "    <tr>\n",
              "      <th>3</th>\n",
              "      <td>1295</td>\n",
              "      <td>12690</td>\n",
              "      <td>6.27.</td>\n",
              "      <td>관악구</td>\n",
              "      <td>-</td>\n",
              "      <td>왕성교회 관련</td>\n",
              "      <td>서남병원</td>\n",
              "    </tr>\n",
              "    <tr>\n",
              "      <th>4</th>\n",
              "      <td>1294</td>\n",
              "      <td>12688</td>\n",
              "      <td>6.27.</td>\n",
              "      <td>관악구</td>\n",
              "      <td>-</td>\n",
              "      <td>왕성교회 관련</td>\n",
              "      <td>서남병원</td>\n",
              "    </tr>\n",
              "  </tbody>\n",
              "</table>\n",
              "</div>"
            ],
            "text/plain": [
              "     연번     환자    확진일   거주지 여행력         접촉력    조치사항\n",
              "0  1298  12696  6.27.   송파구   -  강남구 역삼동 모임  서울대학병원\n",
              "1  1297  12693  6.27.  영등포구   -        확인 중    서남병원\n",
              "2  1296  12694  6.27.   관악구   -        확인 중  강남성심병원\n",
              "3  1295  12690  6.27.   관악구   -     왕성교회 관련    서남병원\n",
              "4  1294  12688  6.27.   관악구   -     왕성교회 관련    서남병원"
            ]
          },
          "metadata": {
            "tags": []
          },
          "execution_count": 6
        }
      ]
    },
    {
      "cell_type": "code",
      "metadata": {
        "id": "_cA_wInit_x2",
        "colab_type": "code",
        "colab": {},
        "outputId": "71f06109-f5d6-4650-98a8-0cc704e626aa"
      },
      "source": [
        "last_day = df.loc[0, \"확진일\"]\n",
        "last_day = last_day.replace(\".\", \"_\")\n",
        "last_day"
      ],
      "execution_count": null,
      "outputs": [
        {
          "output_type": "execute_result",
          "data": {
            "text/plain": [
              "'6_27_'"
            ]
          },
          "metadata": {
            "tags": []
          },
          "execution_count": 7
        }
      ]
    },
    {
      "cell_type": "code",
      "metadata": {
        "id": "KaNbP5nTt_x9",
        "colab_type": "code",
        "colab": {},
        "outputId": "b536383a-b3ba-4a5d-cb07-1aa395933bfa"
      },
      "source": [
        "file_name = f\"seoul_covid_{last_day}.csv\"\n",
        "file_name"
      ],
      "execution_count": null,
      "outputs": [
        {
          "output_type": "execute_result",
          "data": {
            "text/plain": [
              "'seoul_covid_6_27_.csv'"
            ]
          },
          "metadata": {
            "tags": []
          },
          "execution_count": 8
        }
      ]
    },
    {
      "cell_type": "code",
      "metadata": {
        "id": "Rg30n46Kt_yH",
        "colab_type": "code",
        "colab": {}
      },
      "source": [
        "df.to_csv(file_name, index=False)"
      ],
      "execution_count": null,
      "outputs": []
    },
    {
      "cell_type": "code",
      "metadata": {
        "id": "Z9ebEo-Ct_yM",
        "colab_type": "code",
        "colab": {},
        "outputId": "738a9369-83ac-4cbd-cbc0-ad3ada9017ee"
      },
      "source": [
        "pd.read_csv(file_name)"
      ],
      "execution_count": null,
      "outputs": [
        {
          "output_type": "execute_result",
          "data": {
            "text/html": [
              "<div>\n",
              "<style scoped>\n",
              "    .dataframe tbody tr th:only-of-type {\n",
              "        vertical-align: middle;\n",
              "    }\n",
              "\n",
              "    .dataframe tbody tr th {\n",
              "        vertical-align: top;\n",
              "    }\n",
              "\n",
              "    .dataframe thead th {\n",
              "        text-align: right;\n",
              "    }\n",
              "</style>\n",
              "<table border=\"1\" class=\"dataframe\">\n",
              "  <thead>\n",
              "    <tr style=\"text-align: right;\">\n",
              "      <th></th>\n",
              "      <th>연번</th>\n",
              "      <th>환자</th>\n",
              "      <th>확진일</th>\n",
              "      <th>거주지</th>\n",
              "      <th>여행력</th>\n",
              "      <th>접촉력</th>\n",
              "      <th>조치사항</th>\n",
              "    </tr>\n",
              "  </thead>\n",
              "  <tbody>\n",
              "    <tr>\n",
              "      <th>0</th>\n",
              "      <td>1298</td>\n",
              "      <td>12696</td>\n",
              "      <td>6.27.</td>\n",
              "      <td>송파구</td>\n",
              "      <td>-</td>\n",
              "      <td>강남구 역삼동 모임</td>\n",
              "      <td>서울대학병원</td>\n",
              "    </tr>\n",
              "    <tr>\n",
              "      <th>1</th>\n",
              "      <td>1297</td>\n",
              "      <td>12693</td>\n",
              "      <td>6.27.</td>\n",
              "      <td>영등포구</td>\n",
              "      <td>-</td>\n",
              "      <td>확인 중</td>\n",
              "      <td>서남병원</td>\n",
              "    </tr>\n",
              "    <tr>\n",
              "      <th>2</th>\n",
              "      <td>1296</td>\n",
              "      <td>12694</td>\n",
              "      <td>6.27.</td>\n",
              "      <td>관악구</td>\n",
              "      <td>-</td>\n",
              "      <td>확인 중</td>\n",
              "      <td>강남성심병원</td>\n",
              "    </tr>\n",
              "    <tr>\n",
              "      <th>3</th>\n",
              "      <td>1295</td>\n",
              "      <td>12690</td>\n",
              "      <td>6.27.</td>\n",
              "      <td>관악구</td>\n",
              "      <td>-</td>\n",
              "      <td>왕성교회 관련</td>\n",
              "      <td>서남병원</td>\n",
              "    </tr>\n",
              "    <tr>\n",
              "      <th>4</th>\n",
              "      <td>1294</td>\n",
              "      <td>12688</td>\n",
              "      <td>6.27.</td>\n",
              "      <td>관악구</td>\n",
              "      <td>-</td>\n",
              "      <td>왕성교회 관련</td>\n",
              "      <td>서남병원</td>\n",
              "    </tr>\n",
              "    <tr>\n",
              "      <th>...</th>\n",
              "      <td>...</td>\n",
              "      <td>...</td>\n",
              "      <td>...</td>\n",
              "      <td>...</td>\n",
              "      <td>...</td>\n",
              "      <td>...</td>\n",
              "      <td>...</td>\n",
              "    </tr>\n",
              "    <tr>\n",
              "      <th>1293</th>\n",
              "      <td>5</td>\n",
              "      <td>9</td>\n",
              "      <td>1.31.</td>\n",
              "      <td>성북구</td>\n",
              "      <td>-</td>\n",
              "      <td>#5 접촉</td>\n",
              "      <td>서울의료원(퇴원)</td>\n",
              "    </tr>\n",
              "    <tr>\n",
              "      <th>1294</th>\n",
              "      <td>4</td>\n",
              "      <td>7</td>\n",
              "      <td>1.30.</td>\n",
              "      <td>마포구</td>\n",
              "      <td>중국 우한시</td>\n",
              "      <td>해외 접촉</td>\n",
              "      <td>서울의료원(퇴원)</td>\n",
              "    </tr>\n",
              "    <tr>\n",
              "      <th>1295</th>\n",
              "      <td>3</td>\n",
              "      <td>6</td>\n",
              "      <td>1.30.</td>\n",
              "      <td>종로구</td>\n",
              "      <td>-</td>\n",
              "      <td>#3 접촉</td>\n",
              "      <td>서울대학교병원(퇴원)</td>\n",
              "    </tr>\n",
              "    <tr>\n",
              "      <th>1296</th>\n",
              "      <td>2</td>\n",
              "      <td>5</td>\n",
              "      <td>1.30.</td>\n",
              "      <td>중랑구</td>\n",
              "      <td>중국 우한시</td>\n",
              "      <td>해외 접촉</td>\n",
              "      <td>서울의료원(퇴원)</td>\n",
              "    </tr>\n",
              "    <tr>\n",
              "      <th>1297</th>\n",
              "      <td>1</td>\n",
              "      <td>2</td>\n",
              "      <td>1.24.</td>\n",
              "      <td>강서구</td>\n",
              "      <td>중국 우한시</td>\n",
              "      <td>해외 접촉</td>\n",
              "      <td>국립중앙의료원(퇴원)</td>\n",
              "    </tr>\n",
              "  </tbody>\n",
              "</table>\n",
              "<p>1298 rows × 7 columns</p>\n",
              "</div>"
            ],
            "text/plain": [
              "        연번     환자    확진일   거주지     여행력         접촉력         조치사항\n",
              "0     1298  12696  6.27.   송파구       -  강남구 역삼동 모임       서울대학병원\n",
              "1     1297  12693  6.27.  영등포구       -        확인 중         서남병원\n",
              "2     1296  12694  6.27.   관악구       -        확인 중       강남성심병원\n",
              "3     1295  12690  6.27.   관악구       -     왕성교회 관련         서남병원\n",
              "4     1294  12688  6.27.   관악구       -     왕성교회 관련         서남병원\n",
              "...    ...    ...    ...   ...     ...         ...          ...\n",
              "1293     5      9  1.31.   성북구       -       #5 접촉    서울의료원(퇴원)\n",
              "1294     4      7  1.30.   마포구  중국 우한시       해외 접촉    서울의료원(퇴원)\n",
              "1295     3      6  1.30.   종로구       -       #3 접촉  서울대학교병원(퇴원)\n",
              "1296     2      5  1.30.   중랑구  중국 우한시       해외 접촉    서울의료원(퇴원)\n",
              "1297     1      2  1.24.   강서구  중국 우한시       해외 접촉  국립중앙의료원(퇴원)\n",
              "\n",
              "[1298 rows x 7 columns]"
            ]
          },
          "metadata": {
            "tags": []
          },
          "execution_count": 10
        }
      ]
    },
    {
      "cell_type": "code",
      "metadata": {
        "id": "qSBwj4lht_yT",
        "colab_type": "code",
        "colab": {}
      },
      "source": [
        "df = df.sort_values([\"연번\"], ascending=False)"
      ],
      "execution_count": null,
      "outputs": []
    },
    {
      "cell_type": "code",
      "metadata": {
        "id": "N5jlWkFft_yZ",
        "colab_type": "code",
        "colab": {},
        "outputId": "7675359f-c225-4409-98b9-a3ebaf8ef067"
      },
      "source": [
        "df.head()"
      ],
      "execution_count": null,
      "outputs": [
        {
          "output_type": "execute_result",
          "data": {
            "text/html": [
              "<div>\n",
              "<style scoped>\n",
              "    .dataframe tbody tr th:only-of-type {\n",
              "        vertical-align: middle;\n",
              "    }\n",
              "\n",
              "    .dataframe tbody tr th {\n",
              "        vertical-align: top;\n",
              "    }\n",
              "\n",
              "    .dataframe thead th {\n",
              "        text-align: right;\n",
              "    }\n",
              "</style>\n",
              "<table border=\"1\" class=\"dataframe\">\n",
              "  <thead>\n",
              "    <tr style=\"text-align: right;\">\n",
              "      <th></th>\n",
              "      <th>연번</th>\n",
              "      <th>환자</th>\n",
              "      <th>확진일</th>\n",
              "      <th>거주지</th>\n",
              "      <th>여행력</th>\n",
              "      <th>접촉력</th>\n",
              "      <th>조치사항</th>\n",
              "    </tr>\n",
              "  </thead>\n",
              "  <tbody>\n",
              "    <tr>\n",
              "      <th>0</th>\n",
              "      <td>1298</td>\n",
              "      <td>12696</td>\n",
              "      <td>6.27.</td>\n",
              "      <td>송파구</td>\n",
              "      <td>-</td>\n",
              "      <td>강남구 역삼동 모임</td>\n",
              "      <td>서울대학병원</td>\n",
              "    </tr>\n",
              "    <tr>\n",
              "      <th>1</th>\n",
              "      <td>1297</td>\n",
              "      <td>12693</td>\n",
              "      <td>6.27.</td>\n",
              "      <td>영등포구</td>\n",
              "      <td>-</td>\n",
              "      <td>확인 중</td>\n",
              "      <td>서남병원</td>\n",
              "    </tr>\n",
              "    <tr>\n",
              "      <th>2</th>\n",
              "      <td>1296</td>\n",
              "      <td>12694</td>\n",
              "      <td>6.27.</td>\n",
              "      <td>관악구</td>\n",
              "      <td>-</td>\n",
              "      <td>확인 중</td>\n",
              "      <td>강남성심병원</td>\n",
              "    </tr>\n",
              "    <tr>\n",
              "      <th>3</th>\n",
              "      <td>1295</td>\n",
              "      <td>12690</td>\n",
              "      <td>6.27.</td>\n",
              "      <td>관악구</td>\n",
              "      <td>-</td>\n",
              "      <td>왕성교회 관련</td>\n",
              "      <td>서남병원</td>\n",
              "    </tr>\n",
              "    <tr>\n",
              "      <th>4</th>\n",
              "      <td>1294</td>\n",
              "      <td>12688</td>\n",
              "      <td>6.27.</td>\n",
              "      <td>관악구</td>\n",
              "      <td>-</td>\n",
              "      <td>왕성교회 관련</td>\n",
              "      <td>서남병원</td>\n",
              "    </tr>\n",
              "  </tbody>\n",
              "</table>\n",
              "</div>"
            ],
            "text/plain": [
              "     연번     환자    확진일   거주지 여행력         접촉력    조치사항\n",
              "0  1298  12696  6.27.   송파구   -  강남구 역삼동 모임  서울대학병원\n",
              "1  1297  12693  6.27.  영등포구   -        확인 중    서남병원\n",
              "2  1296  12694  6.27.   관악구   -        확인 중  강남성심병원\n",
              "3  1295  12690  6.27.   관악구   -     왕성교회 관련    서남병원\n",
              "4  1294  12688  6.27.   관악구   -     왕성교회 관련    서남병원"
            ]
          },
          "metadata": {
            "tags": []
          },
          "execution_count": 12
        }
      ]
    },
    {
      "cell_type": "code",
      "metadata": {
        "id": "Z5j7aCwOt_yg",
        "colab_type": "code",
        "colab": {},
        "outputId": "d83fe133-d027-44a1-e6ef-44e6fdc0b5dc"
      },
      "source": [
        "df.tail()"
      ],
      "execution_count": null,
      "outputs": [
        {
          "output_type": "execute_result",
          "data": {
            "text/html": [
              "<div>\n",
              "<style scoped>\n",
              "    .dataframe tbody tr th:only-of-type {\n",
              "        vertical-align: middle;\n",
              "    }\n",
              "\n",
              "    .dataframe tbody tr th {\n",
              "        vertical-align: top;\n",
              "    }\n",
              "\n",
              "    .dataframe thead th {\n",
              "        text-align: right;\n",
              "    }\n",
              "</style>\n",
              "<table border=\"1\" class=\"dataframe\">\n",
              "  <thead>\n",
              "    <tr style=\"text-align: right;\">\n",
              "      <th></th>\n",
              "      <th>연번</th>\n",
              "      <th>환자</th>\n",
              "      <th>확진일</th>\n",
              "      <th>거주지</th>\n",
              "      <th>여행력</th>\n",
              "      <th>접촉력</th>\n",
              "      <th>조치사항</th>\n",
              "    </tr>\n",
              "  </thead>\n",
              "  <tbody>\n",
              "    <tr>\n",
              "      <th>1293</th>\n",
              "      <td>5</td>\n",
              "      <td>9</td>\n",
              "      <td>1.31.</td>\n",
              "      <td>성북구</td>\n",
              "      <td>-</td>\n",
              "      <td>#5 접촉</td>\n",
              "      <td>서울의료원(퇴원)</td>\n",
              "    </tr>\n",
              "    <tr>\n",
              "      <th>1294</th>\n",
              "      <td>4</td>\n",
              "      <td>7</td>\n",
              "      <td>1.30.</td>\n",
              "      <td>마포구</td>\n",
              "      <td>중국 우한시</td>\n",
              "      <td>해외 접촉</td>\n",
              "      <td>서울의료원(퇴원)</td>\n",
              "    </tr>\n",
              "    <tr>\n",
              "      <th>1295</th>\n",
              "      <td>3</td>\n",
              "      <td>6</td>\n",
              "      <td>1.30.</td>\n",
              "      <td>종로구</td>\n",
              "      <td>-</td>\n",
              "      <td>#3 접촉</td>\n",
              "      <td>서울대학교병원(퇴원)</td>\n",
              "    </tr>\n",
              "    <tr>\n",
              "      <th>1296</th>\n",
              "      <td>2</td>\n",
              "      <td>5</td>\n",
              "      <td>1.30.</td>\n",
              "      <td>중랑구</td>\n",
              "      <td>중국 우한시</td>\n",
              "      <td>해외 접촉</td>\n",
              "      <td>서울의료원(퇴원)</td>\n",
              "    </tr>\n",
              "    <tr>\n",
              "      <th>1297</th>\n",
              "      <td>1</td>\n",
              "      <td>2</td>\n",
              "      <td>1.24.</td>\n",
              "      <td>강서구</td>\n",
              "      <td>중국 우한시</td>\n",
              "      <td>해외 접촉</td>\n",
              "      <td>국립중앙의료원(퇴원)</td>\n",
              "    </tr>\n",
              "  </tbody>\n",
              "</table>\n",
              "</div>"
            ],
            "text/plain": [
              "      연번 환자    확진일  거주지     여행력    접촉력         조치사항\n",
              "1293   5  9  1.31.  성북구       -  #5 접촉    서울의료원(퇴원)\n",
              "1294   4  7  1.30.  마포구  중국 우한시  해외 접촉    서울의료원(퇴원)\n",
              "1295   3  6  1.30.  종로구       -  #3 접촉  서울대학교병원(퇴원)\n",
              "1296   2  5  1.30.  중랑구  중국 우한시  해외 접촉    서울의료원(퇴원)\n",
              "1297   1  2  1.24.  강서구  중국 우한시  해외 접촉  국립중앙의료원(퇴원)"
            ]
          },
          "metadata": {
            "tags": []
          },
          "execution_count": 13
        }
      ]
    },
    {
      "cell_type": "code",
      "metadata": {
        "id": "fDHmCcDtt_yo",
        "colab_type": "code",
        "colab": {}
      },
      "source": [
        ""
      ],
      "execution_count": null,
      "outputs": []
    },
    {
      "cell_type": "code",
      "metadata": {
        "id": "U0OsCrOCt_yu",
        "colab_type": "code",
        "colab": {}
      },
      "source": [
        ""
      ],
      "execution_count": null,
      "outputs": []
    }
  ]
}