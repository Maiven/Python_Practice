{
  "nbformat": 4,
  "nbformat_minor": 0,
  "metadata": {
    "colab": {
      "name": "python_practice2.ipynb",
      "provenance": [],
      "collapsed_sections": [],
      "authorship_tag": "ABX9TyNF7VyqsPTf+j9IQMNj/F/X",
      "include_colab_link": true
    },
    "kernelspec": {
      "name": "python3",
      "display_name": "Python 3"
    }
  },
  "cells": [
    {
      "cell_type": "markdown",
      "metadata": {
        "id": "view-in-github",
        "colab_type": "text"
      },
      "source": [
        "<a href=\"https://colab.research.google.com/github/Maiven/personal_Python_Practice/blob/master/python_practice2.ipynb\" target=\"_parent\"><img src=\"https://colab.research.google.com/assets/colab-badge.svg\" alt=\"Open In Colab\"/></a>"
      ]
    },
    {
      "cell_type": "code",
      "metadata": {
        "id": "DNB9J95vHGxi"
      },
      "source": [
        "# 모듈의 활용에 대해서, 클래스의 재사용 개념\n",
        "class ListNode:\n",
        "    def __init__(self, x, n = None):\n",
        "        '''Definition for singly-linked list.'''\n",
        "        self.val = x\n",
        "        self.next = n\n",
        "\n",
        "def build_ll(arr):\n",
        "    '''Builds a linked list from array. Used for testing.'''\n",
        "    res = ListNode(None)\n",
        "    pt = res\n",
        "\n",
        "    for num in arr:\n",
        "        pt.next = ListNode(num)\n",
        "        pt = pt.next\n",
        "\n",
        "    return res.next\n",
        "\n",
        "def print_ll(head):\n",
        "    '''Prints a linked list in this format: x -> y -> z. Used for testing.'''\n",
        "    res = []\n",
        "\n",
        "    while head != None:\n",
        "        res.append(str(head.val))\n",
        "        head = head.next\n",
        "\n",
        "    print(' -> '.join(res))"
      ],
      "execution_count": null,
      "outputs": []
    },
    {
      "cell_type": "code",
      "metadata": {
        "colab": {
          "base_uri": "https://localhost:8080/"
        },
        "id": "W4w_3HJBMcpe",
        "outputId": "edb045dd-2f76-4810-d8dd-0729458a3415"
      },
      "source": [
        "#from ll_helpers import ListNode\n",
        "\n",
        "def add_two_numbers(l1, l2):\n",
        "    start = ListNode(None)\n",
        "    # use the same linked list as result so the Space complexity will be O(1)\n",
        "    start.next = l1\n",
        "    pointer = start\n",
        "    transfer = 0\n",
        "\n",
        "    while (l1 is not None) or (l2 is not None) or (transfer != 0):\n",
        "        v1 = 0\n",
        "        if l1 is not None:\n",
        "            v1 = l1.val\n",
        "            l1 = l1.next\n",
        "\n",
        "        v2 = 0\n",
        "        if l2 is not None:\n",
        "            v2 = l2.val\n",
        "            l2 = l2.next\n",
        "\n",
        "        total = transfer + v1 + v2\n",
        "        transfer = total // 10\n",
        "\n",
        "        if l1 is None:\n",
        "            # if the first list is shorter than the second, add new elements at the end\n",
        "            pointer.next = ListNode(None)\n",
        "        pointer = pointer.next\n",
        "        pointer.val = total % 10\n",
        "\n",
        "    return start.next\n",
        "\n",
        "\n",
        "###########\n",
        "# Testing #\n",
        "###########\n",
        "\n",
        "# import build_ll and print_ll methods from ll_helpers.py\n",
        "#from ll_helpers import build_ll, print_ll\n",
        "\n",
        "# Test 1\n",
        "# Correct result => 7 -> 0 -> 8\n",
        "ll1 = build_ll([2, 4, 3])\n",
        "ll2 = build_ll([5, 6, 4])\n",
        "print_ll(add_two_numbers(ll1, ll2))\n",
        "\n",
        "# Test 2\n",
        "# Correct result => 8 -> 9 -> 0 -> 0 -> 1\n",
        "ll1 = build_ll([9, 9, 9, 9])\n",
        "ll2 = build_ll([9, 9])\n",
        "print_ll(add_two_numbers(ll1, ll2))"
      ],
      "execution_count": null,
      "outputs": [
        {
          "output_type": "stream",
          "text": [
            "7 -> 0 -> 8\n",
            "8 -> 9 -> 0 -> 0 -> 1\n"
          ],
          "name": "stdout"
        }
      ]
    },
    {
      "cell_type": "code",
      "metadata": {
        "id": "zHyzL8EPA_bs"
      },
      "source": [
        "fibo = [0 for i in range(100)]\n",
        "fibo[0] = 0\n",
        "fibo[1] = 1\n",
        "#fibo = [0, 1]\n",
        "for i in range(0,10):\n",
        "    if i==0:\n",
        "        print('0')\n",
        "\n",
        "    elif i==1:\n",
        "        print('1')\n",
        "\n",
        "    else:\n",
        "        fibo[i] = fibo[i-1] + fibo[i-2]\n",
        "        print(fibo[i])"
      ],
      "execution_count": null,
      "outputs": []
    },
    {
      "cell_type": "code",
      "metadata": {
        "colab": {
          "base_uri": "https://localhost:8080/"
        },
        "id": "KbOKscg1QfSP",
        "outputId": "5492dcbd-84df-4758-8448-5af6d75fb639"
      },
      "source": [
        "# 태뷸레이션을 활용하는 DP\n",
        "tab = [0, 1]\n",
        "def fib(n):\n",
        "  #tab = [0, 1]\n",
        "  # tab[0] = 0\n",
        "  # tab[1] = 1\n",
        "  for i in range(2, n+1):           # 재귀가 아닌 for반복문을 활용하여 연산이 빠름\n",
        "    #tab[i] = tab[i-1] + tab[i-2]  # 반복하면서 값을 미리 다 구해놓는다.\n",
        "    tab.append(tab[i-1] + tab[i-2])\n",
        "    print('tab[i] :',tab[i])\n",
        "  return tab[n]\n",
        "\n",
        "print(fib(6))\n",
        "print('tab :',tab)\n",
        "print(tab[1])"
      ],
      "execution_count": 54,
      "outputs": [
        {
          "output_type": "stream",
          "text": [
            "tab[i] : 1\n",
            "tab[i] : 2\n",
            "tab[i] : 3\n",
            "tab[i] : 5\n",
            "tab[i] : 8\n",
            "8\n",
            "tab : [0, 1, 1, 2, 3, 5, 8]\n",
            "1\n"
          ],
          "name": "stdout"
        }
      ]
    },
    {
      "cell_type": "code",
      "metadata": {
        "colab": {
          "base_uri": "https://localhost:8080/"
        },
        "id": "gPsKIQBKQuMK",
        "outputId": "5f4b2a62-e144-4847-8753-a592dc256e8b"
      },
      "source": [
        "a = [0, 1]\n",
        "a[0] = 0\n",
        "a[1] = 1\n",
        "print(a)"
      ],
      "execution_count": 11,
      "outputs": [
        {
          "output_type": "stream",
          "text": [
            "[0, 1]\n"
          ],
          "name": "stdout"
        }
      ]
    },
    {
      "cell_type": "code",
      "metadata": {
        "colab": {
          "base_uri": "https://localhost:8080/"
        },
        "id": "Oh6kEjjPVQUu",
        "outputId": "bc5364d5-5c08-44e3-fae4-4cdd28d7868e"
      },
      "source": [
        "# 태뷸레이션을 활용하는 DP\n",
        "def fib(n):\n",
        "  \n",
        "  tab = [0, 1]\n",
        "\n",
        "  for i in range(2, n+1):           # 재귀가 아닌 for반복문을 활용하여 연산이 빠름\n",
        "    tab.append(tab[i-1] + tab[i-2]) # 반복하면서 값을 미리 다 구해놓는다.(tab list에 값을 구해놓음)\n",
        "    print(tab[i])\n",
        "  print('i',i)\n",
        "  return tab[n]\n",
        "\n",
        "fib(6)"
      ],
      "execution_count": 58,
      "outputs": [
        {
          "output_type": "stream",
          "text": [
            "1\n",
            "2\n",
            "3\n",
            "5\n",
            "8\n",
            "i 6\n"
          ],
          "name": "stdout"
        },
        {
          "output_type": "execute_result",
          "data": {
            "text/plain": [
              "8"
            ]
          },
          "metadata": {
            "tags": []
          },
          "execution_count": 58
        }
      ]
    },
    {
      "cell_type": "code",
      "metadata": {
        "colab": {
          "base_uri": "https://localhost:8080/"
        },
        "id": "jxzRB3rscfrT",
        "outputId": "376d59e1-949d-428a-c69b-d13c5bf6af93"
      },
      "source": [
        "test = [0,1,2]\n",
        "test.append(test[0]+test[1]+test[2])\n",
        "print(test)\n",
        "print(test[3])\n",
        "test.append(test[0])\n",
        "print(test[4])\n",
        "print(test)\n"
      ],
      "execution_count": 77,
      "outputs": [
        {
          "output_type": "stream",
          "text": [
            "[0, 1, 2, 3]\n",
            "3\n",
            "0\n",
            "[0, 1, 2, 3, 0]\n"
          ],
          "name": "stdout"
        }
      ]
    },
    {
      "cell_type": "code",
      "metadata": {
        "id": "NesOL3nIc5QF"
      },
      "source": [
        "test2 = []\n",
        "test2[3]=(test[0]+test[1]+test[2])    # append와 리스트에서의 + 의 차이에 대해 인지하자.\n",
        "print(test2[3])"
      ],
      "execution_count": null,
      "outputs": []
    },
    {
      "cell_type": "code",
      "metadata": {
        "colab": {
          "base_uri": "https://localhost:8080/"
        },
        "id": "509BSWwc4_Zn",
        "outputId": "e26fd393-a739-4684-cdd7-5c2ce30ee3c6"
      },
      "source": [
        "# Dynamic Programming Python implementation of Coin  \n",
        "# Change problem \n",
        "# 동전교환\n",
        "\n",
        "def coin_exchange(piece_price, piece_price_len, total_price): \n",
        "  \n",
        "    way_of_number = [0 for temp in range(total_price + 1)] \n",
        "  \n",
        "    way_of_number[0] = 1\n",
        "    for i in range(0, piece_price_len): \n",
        "        for j in range(piece_price[i],total_price + 1): \n",
        "            way_of_number[j] += way_of_number[j-piece_price[i]] \n",
        "    \n",
        "    return way_of_number[total_price] \n",
        "\n",
        "total_price = int(input('교환할 동전금액을 입력하세요(단위 : 원) : '))  \n",
        "piece_price = list(map(int,input('얼마짜리 동전으로 교환하시겠습니까?(단위 : 원) ').split(',')))\n",
        "piece_price_len = len(piece_price) \n",
        "\n",
        "exchange_way = coin_exchange(piece_price, piece_price_len, total_price) \n",
        "print('교환할 수 있는 방법은',exchange_way,'가지 입니다.') "
      ],
      "execution_count": 121,
      "outputs": [
        {
          "output_type": "stream",
          "text": [
            "교환할 동전금액을 입력하세요(단위 : 원) : 50\n",
            "얼마짜리 동전으로 교환하시겠습니까?(단위 : 원) 10,20,30\n",
            "교환할 수 있는 방법은 5 가지 입니다.\n"
          ],
          "name": "stdout"
        }
      ]
    },
    {
      "cell_type": "code",
      "metadata": {
        "colab": {
          "base_uri": "https://localhost:8080/"
        },
        "id": "5dFRp3as5rXj",
        "outputId": "eaf62b17-5e5d-4f4c-a689-376219be2464"
      },
      "source": [
        "arr = input().split()\n",
        "arr"
      ],
      "execution_count": 87,
      "outputs": [
        {
          "output_type": "stream",
          "text": [
            "1 2 3\n"
          ],
          "name": "stdout"
        },
        {
          "output_type": "execute_result",
          "data": {
            "text/plain": [
              "['1', '2', '3']"
            ]
          },
          "metadata": {
            "tags": []
          },
          "execution_count": 87
        }
      ]
    },
    {
      "cell_type": "code",
      "metadata": {
        "colab": {
          "base_uri": "https://localhost:8080/"
        },
        "id": "88pTbBmR8p8M",
        "outputId": "0abae1d9-8858-4628-ebd5-3ce33a361296"
      },
      "source": [
        "arr = list(map(int,input('얼마짜리 동전으로 교환하시겠습니까?(단위 : 원) ').split(',')))\n",
        "arr"
      ],
      "execution_count": 116,
      "outputs": [
        {
          "output_type": "stream",
          "text": [
            "얼마짜리 동전으로 교환하시겠습니까?(단위 : 원) 100,20\n"
          ],
          "name": "stdout"
        },
        {
          "output_type": "execute_result",
          "data": {
            "text/plain": [
              "[100, 20]"
            ]
          },
          "metadata": {
            "tags": []
          },
          "execution_count": 116
        }
      ]
    }
  ]
}