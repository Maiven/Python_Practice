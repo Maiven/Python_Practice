{
  "nbformat": 4,
  "nbformat_minor": 0,
  "metadata": {
    "colab": {
      "name": "datacamp_Python Programming.ipynb",
      "provenance": [],
      "collapsed_sections": [],
      "authorship_tag": "ABX9TyMp2/kS+74lV9umLvc6dZwb",
      "include_colab_link": true
    },
    "kernelspec": {
      "name": "python3",
      "display_name": "Python 3"
    }
  },
  "cells": [
    {
      "cell_type": "markdown",
      "metadata": {
        "id": "view-in-github",
        "colab_type": "text"
      },
      "source": [
        "<a href=\"https://colab.research.google.com/github/Maiven/personal_Python_Practice/blob/master/datacamp_Python_Programming.ipynb\" target=\"_parent\"><img src=\"https://colab.research.google.com/assets/colab-badge.svg\" alt=\"Open In Colab\"/></a>"
      ]
    },
    {
      "cell_type": "code",
      "metadata": {
        "id": "lQHUfclBmPQ0"
      },
      "source": [
        "d = {\n",
        "    'one': 1,\n",
        "    'two': 2,\n",
        "    'three': 3,\n",
        "    'four': 4\n",
        "}\n",
        "\n",
        "d['two']"
      ],
      "execution_count": null,
      "outputs": []
    },
    {
      "cell_type": "code",
      "metadata": {
        "colab": {
          "base_uri": "https://localhost:8080/"
        },
        "id": "0gmkye4fmS35",
        "outputId": "9085abb6-02fe-415b-e2b8-1d6721895326"
      },
      "source": [
        "x = (i for i in range(5))\n",
        "\n",
        "next(x)"
      ],
      "execution_count": 1,
      "outputs": [
        {
          "output_type": "execute_result",
          "data": {
            "text/plain": [
              "0"
            ]
          },
          "metadata": {
            "tags": []
          },
          "execution_count": 1
        }
      ]
    },
    {
      "cell_type": "code",
      "metadata": {
        "colab": {
          "base_uri": "https://localhost:8080/"
        },
        "id": "7pmUFxu6mZ_0",
        "outputId": "e73d1796-4dd5-4658-ba91-a5d084105f87"
      },
      "source": [
        "def make_dict(**kwargs):\n",
        "    return kwargs\n",
        "\n",
        "make_dict(a = 1, b = 2)"
      ],
      "execution_count": 2,
      "outputs": [
        {
          "output_type": "execute_result",
          "data": {
            "text/plain": [
              "{'a': 1, 'b': 2}"
            ]
          },
          "metadata": {
            "tags": []
          },
          "execution_count": 2
        }
      ]
    },
    {
      "cell_type": "code",
      "metadata": {
        "colab": {
          "base_uri": "https://localhost:8080/"
        },
        "id": "i6PbFjfFmdlV",
        "outputId": "c9fb47f8-3af7-442e-b489-84ae8c55618a"
      },
      "source": [
        "def multiply(a, b):\n",
        "    return a * b\n",
        "\n",
        "x = multiply(3, 4)\n",
        "\n",
        "x"
      ],
      "execution_count": 3,
      "outputs": [
        {
          "output_type": "execute_result",
          "data": {
            "text/plain": [
              "12"
            ]
          },
          "metadata": {
            "tags": []
          },
          "execution_count": 3
        }
      ]
    },
    {
      "cell_type": "code",
      "metadata": {
        "colab": {
          "base_uri": "https://localhost:8080/",
          "height": 35
        },
        "id": "xLKf7xS6mfEl",
        "outputId": "dec510f8-42ce-461b-84d9-17e65f96d2ae"
      },
      "source": [
        "book = {\n",
        "    'title': 'The Giver',\n",
        "    'author': 'Lois Lowry',\n",
        "    'rating': 4.13\n",
        "}\n",
        "\n",
        "book['format'] = 'paperback'\n",
        "\n",
        "book['format']"
      ],
      "execution_count": 4,
      "outputs": [
        {
          "output_type": "execute_result",
          "data": {
            "application/vnd.google.colaboratory.intrinsic+json": {
              "type": "string"
            },
            "text/plain": [
              "'paperback'"
            ]
          },
          "metadata": {
            "tags": []
          },
          "execution_count": 4
        }
      ]
    },
    {
      "cell_type": "code",
      "metadata": {
        "colab": {
          "base_uri": "https://localhost:8080/"
        },
        "id": "WT6XM8C_mglX",
        "outputId": "2b6f3037-4d94-4444-fd14-0a886ad7f59d"
      },
      "source": [
        "[s.upper() for s in ['hello', 'world']]\n"
      ],
      "execution_count": 5,
      "outputs": [
        {
          "output_type": "execute_result",
          "data": {
            "text/plain": [
              "['HELLO', 'WORLD']"
            ]
          },
          "metadata": {
            "tags": []
          },
          "execution_count": 5
        }
      ]
    },
    {
      "cell_type": "code",
      "metadata": {
        "colab": {
          "base_uri": "https://localhost:8080/",
          "height": 35
        },
        "id": "In3X_bqjmiO_",
        "outputId": "022b5d0e-108c-4c6b-97ec-c94981e2811a"
      },
      "source": [
        "class Candy:\n",
        "    flavor = 'sweet'\n",
        "    \n",
        "    def __init__(self, name):\n",
        "        self.name = name\n",
        "        \n",
        "c = Candy('Chocolate')\n",
        "\n",
        "c.name"
      ],
      "execution_count": 6,
      "outputs": [
        {
          "output_type": "execute_result",
          "data": {
            "application/vnd.google.colaboratory.intrinsic+json": {
              "type": "string"
            },
            "text/plain": [
              "'Chocolate'"
            ]
          },
          "metadata": {
            "tags": []
          },
          "execution_count": 6
        }
      ]
    },
    {
      "cell_type": "code",
      "metadata": {
        "colab": {
          "base_uri": "https://localhost:8080/",
          "height": 35
        },
        "id": "XT-pwgxpmkTb",
        "outputId": "4fc60e65-c98e-4eaa-e806-5f6d96f3be39"
      },
      "source": [
        "class Dog:    \n",
        "    def woof(self):\n",
        "        return 'woof!'\n",
        "\n",
        "t = Dog()\n",
        "t.woof()"
      ],
      "execution_count": 7,
      "outputs": [
        {
          "output_type": "execute_result",
          "data": {
            "application/vnd.google.colaboratory.intrinsic+json": {
              "type": "string"
            },
            "text/plain": [
              "'woof!'"
            ]
          },
          "metadata": {
            "tags": []
          },
          "execution_count": 7
        }
      ]
    },
    {
      "cell_type": "code",
      "metadata": {
        "colab": {
          "base_uri": "https://localhost:8080/"
        },
        "id": "fe8h4I5Mmllk",
        "outputId": "a58ee8df-9333-4bc7-a8c3-c446ce07b5b5"
      },
      "source": [
        "[i * 3 for i in range(5)]\n"
      ],
      "execution_count": 8,
      "outputs": [
        {
          "output_type": "execute_result",
          "data": {
            "text/plain": [
              "[0, 3, 6, 9, 12]"
            ]
          },
          "metadata": {
            "tags": []
          },
          "execution_count": 8
        }
      ]
    },
    {
      "cell_type": "code",
      "metadata": {
        "colab": {
          "base_uri": "https://localhost:8080/"
        },
        "id": "KbBHOIynmnBV",
        "outputId": "566697aa-4450-4516-d9c4-7d9e7abb5cde"
      },
      "source": [
        "[i for i in range(5) if i<5 and i>=3]\n"
      ],
      "execution_count": 9,
      "outputs": [
        {
          "output_type": "execute_result",
          "data": {
            "text/plain": [
              "[3, 4]"
            ]
          },
          "metadata": {
            "tags": []
          },
          "execution_count": 9
        }
      ]
    },
    {
      "cell_type": "code",
      "metadata": {
        "colab": {
          "base_uri": "https://localhost:8080/",
          "height": 35
        },
        "id": "1QckzdGpmoMd",
        "outputId": "36ddeabe-ecdf-4db8-d9a1-2559671b4d1b"
      },
      "source": [
        "class Person:\n",
        "    def __init__(self, name):\n",
        "        self.name = name\n",
        "\n",
        "m = Person('Michael')\n",
        "\n",
        "m.name"
      ],
      "execution_count": 10,
      "outputs": [
        {
          "output_type": "execute_result",
          "data": {
            "application/vnd.google.colaboratory.intrinsic+json": {
              "type": "string"
            },
            "text/plain": [
              "'Michael'"
            ]
          },
          "metadata": {
            "tags": []
          },
          "execution_count": 10
        }
      ]
    },
    {
      "cell_type": "code",
      "metadata": {
        "colab": {
          "base_uri": "https://localhost:8080/"
        },
        "id": "KI4ct1_gmpYF",
        "outputId": "4e2fa941-38f9-4d08-bb13-bd8ca26eab24"
      },
      "source": [
        "class Building:\n",
        "    \n",
        "    def __init__(self, number):\n",
        "        self.number = number\n",
        "\n",
        "b = Building(245)\n",
        "\n",
        "b.number"
      ],
      "execution_count": 11,
      "outputs": [
        {
          "output_type": "execute_result",
          "data": {
            "text/plain": [
              "245"
            ]
          },
          "metadata": {
            "tags": []
          },
          "execution_count": 11
        }
      ]
    },
    {
      "cell_type": "code",
      "metadata": {
        "colab": {
          "base_uri": "https://localhost:8080/",
          "height": 35
        },
        "id": "7zpoN7K4mqj3",
        "outputId": "6bec64ba-54ff-48a8-aa2f-4b13cdc6a996"
      },
      "source": [
        "class Planet:\n",
        "    def __init__(self, name):\n",
        "        self.name = name\n",
        "        \n",
        "v = Planet('venus')\n",
        "\n",
        "v.name"
      ],
      "execution_count": 12,
      "outputs": [
        {
          "output_type": "execute_result",
          "data": {
            "application/vnd.google.colaboratory.intrinsic+json": {
              "type": "string"
            },
            "text/plain": [
              "'venus'"
            ]
          },
          "metadata": {
            "tags": []
          },
          "execution_count": 12
        }
      ]
    },
    {
      "cell_type": "code",
      "metadata": {
        "colab": {
          "base_uri": "https://localhost:8080/"
        },
        "id": "8idpi7EEmrpg",
        "outputId": "d8c8c00c-c42d-474a-9757-194a41a32fda"
      },
      "source": [
        "lst = [1, 2, 3, 4]\n",
        "\n",
        "lst_iterator = iter(lst)\n",
        "\n",
        "next(lst_iterator)"
      ],
      "execution_count": 13,
      "outputs": [
        {
          "output_type": "execute_result",
          "data": {
            "text/plain": [
              "1"
            ]
          },
          "metadata": {
            "tags": []
          },
          "execution_count": 13
        }
      ]
    },
    {
      "cell_type": "code",
      "metadata": {
        "colab": {
          "base_uri": "https://localhost:8080/"
        },
        "id": "vd3snORrmtpP",
        "outputId": "ff2dbce3-7b62-40cb-ac58-124c7ca6be4f"
      },
      "source": [
        "f = lambda x, y: x * y\n",
        "\n",
        "f(3,3)"
      ],
      "execution_count": 14,
      "outputs": [
        {
          "output_type": "execute_result",
          "data": {
            "text/plain": [
              "9"
            ]
          },
          "metadata": {
            "tags": []
          },
          "execution_count": 14
        }
      ]
    },
    {
      "cell_type": "code",
      "metadata": {
        "id": "tWlNWjvzmvS7"
      },
      "source": [
        ""
      ],
      "execution_count": null,
      "outputs": []
    }
  ]
}