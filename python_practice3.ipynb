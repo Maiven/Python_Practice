{
  "nbformat": 4,
  "nbformat_minor": 0,
  "metadata": {
    "colab": {
      "name": "python_practice3.ipynb",
      "provenance": [],
      "collapsed_sections": [],
      "authorship_tag": "ABX9TyOp0JKvCHFYw6GkMiD2hBB7",
      "include_colab_link": true
    },
    "kernelspec": {
      "name": "python3",
      "display_name": "Python 3"
    }
  },
  "cells": [
    {
      "cell_type": "markdown",
      "metadata": {
        "id": "view-in-github",
        "colab_type": "text"
      },
      "source": [
        "<a href=\"https://colab.research.google.com/github/Maiven/personal_Python_Practice/blob/master/python_practice3.ipynb\" target=\"_parent\"><img src=\"https://colab.research.google.com/assets/colab-badge.svg\" alt=\"Open In Colab\"/></a>"
      ]
    },
    {
      "cell_type": "code",
      "metadata": {
        "id": "2DBVDlWO6ogU"
      },
      "source": [
        "import random\n",
        "def show_welcome_message():\n",
        "    print(welcome_message)\n",
        "\n",
        "\n",
        "def get_user_choice():\n",
        "    choice = input(\"[1] 가위   [2] 바위   [3] 보    [9] 게임종료\\n\")\n",
        "    return choice_options[int(choice)]\n",
        "\n",
        "def quit_game(사용자승, 무승부, 사용자패):\n",
        "    print(quit_message)\n",
        "    print(\"게임결과\")\n",
        "    print(\"-----\")\n",
        "    print(\"사용자승 : \",str(사용자승) + \", \" +\"무승부 : \", str(무승부) + \", \" +\"사용자패 : \", str(사용자패))\n",
        "\n",
        "\n",
        "def compare_choices_and_get_result(user, computer):\n",
        "    if user == computer:\n",
        "        print(\"사용자 : \", user_choice, \", \", \"컴퓨터 : \", computer_choice)\n",
        "        return \"무승부\"\n",
        "    elif (user == \"바위\" and computer == \"가위\") or (user == \"보\" and computer == \"바위\") or (user == \"가위\" and computer == \"보\"):\n",
        "        print(\"사용자 : \", user_choice, \", \", \"컴퓨터 : \", computer_choice)\n",
        "        return \"사용자승\"\n",
        "    else:\n",
        "        print(\"사용자 : \", user_choice, \", \", \"컴퓨터 : \", computer_choice)\n",
        "        return \"사용자패\"\n",
        "\n",
        "\n",
        "def display_result_message_and_update_score(result):\n",
        "    if result == \"무승부\":\n",
        "        print(tie_message)\n",
        "        score[\"무승부\"] += 1\n",
        "    elif result == \"사용자승\":\n",
        "        print(win_message)\n",
        "        score[\"사용자승\"] += 1\n",
        "    else:\n",
        "        print(loss_message)\n",
        "        score[\"사용자패\"] += 1\n",
        "\n",
        "score =  {\n",
        "    \"사용자승\": 0,\n",
        "    \"무승부\": 0,\n",
        "    \"사용자패\": 0\n",
        "}\n",
        "\n",
        "welcome_message = \"가위바위보 게임을 시작합니다.\"\n",
        "win_message = \"사용자가 이겼습니다.\"\n",
        "loss_message = \"사용자가 졌습니다.\"\n",
        "tie_message = \"무승부입니다.\"\n",
        "quit_message = \"게임을 종료합니다.\"\n",
        "\n",
        "choice_options = {\n",
        "    1: \"가위\",\n",
        "    2: \"바위\",\n",
        "    3: \"보\",\n",
        "    9: \"게임종료\"\n",
        "}\n",
        "\n",
        "### 게임시작 메시지\n",
        "show_welcome_message()\n",
        "\n",
        "### 첫번째 사용자 선택\n",
        "user_choice = get_user_choice()\n",
        "\n",
        "### 게임수행을 위한 반복문\n",
        "while user_choice != \"게임종료\":\n",
        "    computer_choice = choice_options[random.randint(1, 3)]\n",
        "    result = compare_choices_and_get_result(user_choice, computer_choice)\n",
        "    display_result_message_and_update_score(result)\n",
        "    user_choice = get_user_choice()\n",
        "print('')\n",
        "quit_game(score[\"사용자승\"], score[\"무승부\"], score[\"사용자패\"])\n",
        "\n"
      ],
      "execution_count": null,
      "outputs": []
    },
    {
      "cell_type": "code",
      "metadata": {
        "colab": {
          "base_uri": "https://localhost:8080/"
        },
        "id": "gTTWuB8pJ6Xn",
        "outputId": "cf262402-54f0-473d-9ac6-69edd4a465d8"
      },
      "source": [
        "def a():\n",
        "  test = [0,1]\n",
        "  return test\n",
        "\n",
        "\n",
        "print(a()) # value\n",
        "print(a)   # address"
      ],
      "execution_count": null,
      "outputs": [
        {
          "output_type": "stream",
          "text": [
            "[0, 1]\n",
            "<function a at 0x7f441b0e7e18>\n"
          ],
          "name": "stdout"
        }
      ]
    },
    {
      "cell_type": "code",
      "metadata": {
        "id": "WkGs00tZK9o8"
      },
      "source": [
        "# locals()\n",
        "지금까지 사용한 변수 및 내용 확인"
      ],
      "execution_count": null,
      "outputs": []
    },
    {
      "cell_type": "code",
      "metadata": {
        "id": "ZcvnFBZnK9kN",
        "colab": {
          "base_uri": "https://localhost:8080/"
        },
        "outputId": "214623e1-06f5-4395-b78d-c9ecca8dbef3"
      },
      "source": [
        "import random # ramdom 라이브러리\n",
        "print(\n",
        "    random.sample(  # random 라이브러리의 sample 모듈\n",
        "        [index for index in range(1,101) if index % 2 == 0 and index % 3 == 0] # 리스트컴프리헨션 활용\n",
        "        , 2   # 랜덤추출할 샘플수\n",
        "        )\n",
        "    )   "
      ],
      "execution_count": null,
      "outputs": [
        {
          "output_type": "stream",
          "text": [
            "[54, 6]\n"
          ],
          "name": "stdout"
        }
      ]
    },
    {
      "cell_type": "code",
      "metadata": {
        "colab": {
          "base_uri": "https://localhost:8080/"
        },
        "id": "RIs1UvGVq24U",
        "outputId": "58943d7a-889a-4005-9203-cc2bea34a1c0"
      },
      "source": [
        "# 랜덤함수, append 사용\n",
        "from random import *\n",
        "\n",
        "num_list = [] \n",
        "for i in range(1, 101):\n",
        "  if i % 2 == 0 and i % 3 == 0:\n",
        "    num_list.append(i)\n",
        "print(sample(num_list,2))"
      ],
      "execution_count": null,
      "outputs": [
        {
          "output_type": "stream",
          "text": [
            "[90, 18]\n"
          ],
          "name": "stdout"
        }
      ]
    },
    {
      "cell_type": "code",
      "metadata": {
        "colab": {
          "base_uri": "https://localhost:8080/"
        },
        "id": "0UPwgr7Sr5LB",
        "outputId": "122cc8b2-59eb-41d6-b6b0-c3c815b78a68"
      },
      "source": [
        "# 리스트의 append사용, 반복문 사용\n",
        "num = []\n",
        "for i in range(1, 10, 1):\n",
        "    num.append(i)\n",
        "print(num)"
      ],
      "execution_count": null,
      "outputs": [
        {
          "output_type": "stream",
          "text": [
            "[1, 2, 3, 4, 5, 6, 7, 8, 9]\n"
          ],
          "name": "stdout"
        }
      ]
    },
    {
      "cell_type": "code",
      "metadata": {
        "colab": {
          "base_uri": "https://localhost:8080/"
        },
        "id": "MXE4Uwp5k731",
        "outputId": "6722b5ee-e63d-40e4-aace-a3f922fbc30d"
      },
      "source": [
        "[i for i in range(5)  if i<5]"
      ],
      "execution_count": null,
      "outputs": [
        {
          "output_type": "execute_result",
          "data": {
            "text/plain": [
              "[0, 1, 2, 3, 4]"
            ]
          },
          "metadata": {
            "tags": []
          },
          "execution_count": 1
        }
      ]
    },
    {
      "cell_type": "code",
      "metadata": {
        "id": "X4UtajI2k8Dh"
      },
      "source": [
        "lst = [1, 2, 3, 4]\n",
        "\n",
        "lst_iterator = lst[0](lst)\n",
        "\n",
        "next(lst_iterator)"
      ],
      "execution_count": null,
      "outputs": []
    },
    {
      "cell_type": "code",
      "metadata": {
        "colab": {
          "base_uri": "https://localhost:8080/"
        },
        "id": "9JWbQOYUlzR0",
        "outputId": "3c56d7e8-02d3-45c0-a6fd-37a5c19ef872"
      },
      "source": [
        "f = lambda x, y: x * y\n",
        "\n",
        "f(3,3)"
      ],
      "execution_count": null,
      "outputs": [
        {
          "output_type": "execute_result",
          "data": {
            "text/plain": [
              "9"
            ]
          },
          "metadata": {
            "tags": []
          },
          "execution_count": 23
        }
      ]
    },
    {
      "cell_type": "code",
      "metadata": {
        "colab": {
          "base_uri": "https://localhost:8080/"
        },
        "id": "BFRFYWCK8IR5",
        "outputId": "39da9576-3d4b-4208-966c-34d08672170b"
      },
      "source": [
        "d = [0,1,2,3],[1,2,3,4]\n",
        "d[0:2]"
      ],
      "execution_count": null,
      "outputs": [
        {
          "output_type": "execute_result",
          "data": {
            "text/plain": [
              "([0, 1, 2, 3], [1, 2, 3, 4])"
            ]
          },
          "metadata": {
            "tags": []
          },
          "execution_count": 46
        }
      ]
    },
    {
      "cell_type": "code",
      "metadata": {
        "id": "GElvs3vI8Pcy"
      },
      "source": [
        ""
      ],
      "execution_count": null,
      "outputs": []
    }
  ]
}