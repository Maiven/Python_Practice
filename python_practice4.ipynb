{
  "nbformat": 4,
  "nbformat_minor": 0,
  "metadata": {
    "colab": {
      "name": "python_practice4.ipynb",
      "provenance": [],
      "collapsed_sections": [],
      "authorship_tag": "ABX9TyO+5c/rkNYH3R5FFZsi5jcr",
      "include_colab_link": true
    },
    "kernelspec": {
      "name": "python3",
      "display_name": "Python 3"
    }
  },
  "cells": [
    {
      "cell_type": "markdown",
      "metadata": {
        "id": "view-in-github",
        "colab_type": "text"
      },
      "source": [
        "<a href=\"https://colab.research.google.com/github/Maiven/personal_Python_Practice/blob/master/python_practice4.ipynb\" target=\"_parent\"><img src=\"https://colab.research.google.com/assets/colab-badge.svg\" alt=\"Open In Colab\"/></a>"
      ]
    },
    {
      "cell_type": "code",
      "metadata": {
        "colab": {
          "base_uri": "https://localhost:8080/"
        },
        "id": "Wjnpdt25O2dd",
        "outputId": "e0e88c26-44f5-48d0-f028-754f9ed8d665"
      },
      "source": [
        "pip install youtube_dl"
      ],
      "execution_count": null,
      "outputs": [
        {
          "output_type": "stream",
          "text": [
            "Collecting youtube_dl\n",
            "\u001b[?25l  Downloading https://files.pythonhosted.org/packages/76/90/e44d83d61051cb18f2479348888b196f6ee6f1e9b00745ab617737feed1b/youtube_dl-2021.1.3-py2.py3-none-any.whl (1.9MB)\n",
            "\u001b[K     |████████████████████████████████| 1.9MB 9.4MB/s \n",
            "\u001b[?25hInstalling collected packages: youtube-dl\n",
            "Successfully installed youtube-dl-2021.1.3\n"
          ],
          "name": "stdout"
        }
      ]
    },
    {
      "cell_type": "code",
      "metadata": {
        "colab": {
          "base_uri": "https://localhost:8080/"
        },
        "id": "84pteQjsKYps",
        "outputId": "6a62751c-8540-497e-f879-fca8091e7cf5"
      },
      "source": [
        "from __future__ import unicode_literals\n",
        "import youtube_dl\n",
        "import os\n",
        "\n",
        "class Download(object):\n",
        "  def __init__(self, url):\n",
        "    self.url = url\n",
        "    self.save_path = os.path.join(os.path.expanduser('~'), 'Downloads')\n",
        "    self.song()\n",
        "\n",
        "  def song(self):\n",
        "    opts = {\n",
        "        'verbose': True,\n",
        "        'fixup': 'detect_or_warn',\n",
        "        'format': 'bestaudio/best',\n",
        "        'postprocessors': [{\n",
        "            'key': 'FFmpegExtractAudio',\n",
        "            'preferredcodec': 'mp3',\n",
        "            'preferredquality': '1411',\n",
        "        }],\n",
        "        'extractaudio' : True,\n",
        "        'outtmpl': self.save_path + '/%(title)s.%(ext)s',\n",
        "        'noplaylist': True\n",
        "    }\n",
        "    ydl = youtube_dl.YoutubeDL(opts)\n",
        "    ydl.download([self.url])\n",
        "\n",
        "if __name__ == '__main__':\n",
        "  url = input(\"Enter url to song here\\n >> \")\n",
        "  Download(url)"
      ],
      "execution_count": null,
      "outputs": [
        {
          "output_type": "stream",
          "text": [
            "Enter url to song here\n",
            " >> https://www.youtube.com/watch?v=AM1K9ES2bKs\n"
          ],
          "name": "stdout"
        },
        {
          "output_type": "stream",
          "text": [
            "[debug] Encodings: locale UTF-8, fs utf-8, out UTF-8, pref UTF-8\n",
            "[debug] youtube-dl version 2021.01.03\n",
            "[debug] Python version 3.6.9 (CPython) - Linux-4.19.112+-x86_64-with-Ubuntu-18.04-bionic\n",
            "[debug] exe versions: ffmpeg 3.4.8, ffprobe 3.4.8\n",
            "[debug] Proxy map: {}\n"
          ],
          "name": "stderr"
        },
        {
          "output_type": "stream",
          "text": [
            "[youtube] AM1K9ES2bKs: Downloading webpage\n",
            "[youtube] Downloading just video AM1K9ES2bKs because of --no-playlist\n",
            "[youtube] {18} signature length 110, html5 player 5dd3f3b2\n",
            "[youtube] AM1K9ES2bKs: Downloading player https://www.youtube.com/s/player/5dd3f3b2/player_ias.vflset/en_US/base.js\n",
            "[youtube] {136} signature length 106, html5 player 5dd3f3b2\n",
            "[youtube] AM1K9ES2bKs: Downloading player https://www.youtube.com/s/player/5dd3f3b2/player_ias.vflset/en_US/base.js\n",
            "[youtube] {247} signature length 110, html5 player 5dd3f3b2\n",
            "[youtube] {135} signature length 110, html5 player 5dd3f3b2\n",
            "[youtube] {244} signature length 110, html5 player 5dd3f3b2\n",
            "[youtube] {134} signature length 110, html5 player 5dd3f3b2\n",
            "[youtube] {243} signature length 106, html5 player 5dd3f3b2\n",
            "[youtube] {133} signature length 110, html5 player 5dd3f3b2\n",
            "[youtube] {242} signature length 106, html5 player 5dd3f3b2\n",
            "[youtube] {160} signature length 110, html5 player 5dd3f3b2\n",
            "[youtube] {278} signature length 110, html5 player 5dd3f3b2\n",
            "[youtube] {140} signature length 110, html5 player 5dd3f3b2\n",
            "[youtube] {249} signature length 110, html5 player 5dd3f3b2\n",
            "[youtube] {250} signature length 106, html5 player 5dd3f3b2\n",
            "[youtube] {251} signature length 110, html5 player 5dd3f3b2\n",
            "[debug] Invoking downloader on 'https://r4---sn-qxoedn7k.googlevideo.com/videoplayback?expire=1610000805&ei=RFX2X5TOOMjBkgbJ6L74Dg&ip=34.82.110.43&id=o-ANw_iVGZAhfrgxz7hQQiL8ZRHphisBbGJ3P1AK9y5bbr&itag=251&source=youtube&requiressl=yes&mh=ZK&mm=31%2C26&mn=sn-qxoedn7k%2Csn-5goeen7k&ms=au%2Conr&mv=m&mvi=4&pl=22&gcr=us&initcwndbps=2893750&vprv=1&mime=audio%2Fwebm&ns=93-8wlfDJMHb0BIZhTX8ZQIF&gir=yes&clen=24573459&dur=1464.061&lmt=1607852617392753&mt=1609978832&fvip=4&keepalive=yes&c=WEB&txp=5432434&n=CN0qLrG6oJD926um&sparams=expire%2Cei%2Cip%2Cid%2Citag%2Csource%2Crequiressl%2Cgcr%2Cvprv%2Cmime%2Cns%2Cgir%2Cclen%2Cdur%2Clmt&lsparams=mh%2Cmm%2Cmn%2Cms%2Cmv%2Cmvi%2Cpl%2Cinitcwndbps&lsig=AG3C_xAwRQIhAPXjUTeUb7J5YPWcEQZctj_wr78uBq7GkL6Cww9f8vmlAiBGc26VMIY9EffxdlfMScmbv1bN74e63uX4F9a0hmEYHg%3D%3D&sig=AOq0QJ8wRQIhAP_sMYKPLNhnwNJiUDNxW7V7CYudWHgg2YbqPFZCX3RtAiBkjYhrXNLkXw9eYgJNj1WgDhQTxARwgPXht2q9c5H55w==&ratebypass=yes'\n",
            "[download] Destination: /root/Downloads/사뭇 달라진 분위기에서 맞이하는 크리스마스_연말.webm\n",
            "[download] 100% of 23.44MiB in 00:01\n",
            "[debug] ffmpeg command line: ffprobe -show_streams 'file:/root/Downloads/사뭇 달라진 분위기에서 맞이하는 크리스마스_연말.webm'\n",
            "[ffmpeg] Destination: /root/Downloads/사뭇 달라진 분위기에서 맞이하는 크리스마스_연말.mp3\n",
            "[debug] ffmpeg command line: ffmpeg -y -loglevel repeat+info -i 'file:/root/Downloads/사뭇 달라진 분위기에서 맞이하는 크리스마스_연말.webm' -vn -acodec libmp3lame -b:a 1411k 'file:/root/Downloads/사뭇 달라진 분위기에서 맞이하는 크리스마스_연말.mp3'\n",
            "Deleting original file /root/Downloads/사뭇 달라진 분위기에서 맞이하는 크리스마스_연말.webm (pass -k to keep)\n"
          ],
          "name": "stdout"
        }
      ]
    },
    {
      "cell_type": "code",
      "metadata": {
        "colab": {
          "base_uri": "https://localhost:8080/"
        },
        "id": "UKUzhh2NV7mu",
        "outputId": "99d98369-d7ed-4692-d611-ba33898359a8"
      },
      "source": [
        "class Car: \n",
        "  def __init__(self, brand): \n",
        "    self.brand = brand \n",
        "    print(brand + \" 한 대가 생성되었습니다.\") \n",
        "    \n",
        "c = Car(\"벤츠\")"
      ],
      "execution_count": null,
      "outputs": [
        {
          "output_type": "stream",
          "text": [
            "벤츠 한 대가 생성되었습니다.\n"
          ],
          "name": "stdout"
        }
      ]
    },
    {
      "cell_type": "code",
      "metadata": {
        "colab": {
          "base_uri": "https://localhost:8080/"
        },
        "id": "i7LwdQrsYgi6",
        "outputId": "d3fc674d-6150-4703-f76c-774478de91ac"
      },
      "source": [
        "#class Car: \n",
        "def init(brand): \n",
        "    print(brand + \" 한 대가 생성되었습니다.\") \n",
        "    \n",
        "c = init(\"벤츠\")"
      ],
      "execution_count": null,
      "outputs": [
        {
          "output_type": "stream",
          "text": [
            "벤츠 한 대가 생성되었습니다.\n"
          ],
          "name": "stdout"
        }
      ]
    },
    {
      "cell_type": "code",
      "metadata": {
        "colab": {
          "base_uri": "https://localhost:8080/"
        },
        "id": "B-pehUv2_3Hd",
        "outputId": "5d082a15-d615-486d-aa26-c060a09ef6e9"
      },
      "source": [
        "mylist = [i for i in range(1,10)]\n",
        "mylist"
      ],
      "execution_count": null,
      "outputs": [
        {
          "output_type": "execute_result",
          "data": {
            "text/plain": [
              "[1, 2, 3, 4, 5, 6, 7, 8, 9]"
            ]
          },
          "metadata": {
            "tags": []
          },
          "execution_count": 1
        }
      ]
    },
    {
      "cell_type": "code",
      "metadata": {
        "id": "MEl0cHw8_7lU"
      },
      "source": [
        "mylist?"
      ],
      "execution_count": null,
      "outputs": []
    },
    {
      "cell_type": "code",
      "metadata": {
        "id": "tbWubUor_-fW",
        "colab": {
          "base_uri": "https://localhost:8080/"
        },
        "outputId": "0ab6961c-6b13-4f59-a155-07c6a8b275ef"
      },
      "source": [
        "S1 = {\"Python\", \"Java\", \"Ruby\"}\n",
        "print(S1)"
      ],
      "execution_count": null,
      "outputs": [
        {
          "output_type": "stream",
          "text": [
            "{'Java', 'Ruby', 'Python'}\n"
          ],
          "name": "stdout"
        }
      ]
    },
    {
      "cell_type": "code",
      "metadata": {
        "colab": {
          "base_uri": "https://localhost:8080/"
        },
        "id": "z2TbJ-bVnC72",
        "outputId": "3c06cbc0-a111-45ad-b120-dce8ceb6f8c6"
      },
      "source": [
        "L = []\n",
        "help(L)\n",
        "dir(L)"
      ],
      "execution_count": null,
      "outputs": [
        {
          "output_type": "stream",
          "text": [
            "Help on list object:\n",
            "\n",
            "class list(object)\n",
            " |  list() -> new empty list\n",
            " |  list(iterable) -> new list initialized from iterable's items\n",
            " |  \n",
            " |  Methods defined here:\n",
            " |  \n",
            " |  __add__(self, value, /)\n",
            " |      Return self+value.\n",
            " |  \n",
            " |  __contains__(self, key, /)\n",
            " |      Return key in self.\n",
            " |  \n",
            " |  __delitem__(self, key, /)\n",
            " |      Delete self[key].\n",
            " |  \n",
            " |  __eq__(self, value, /)\n",
            " |      Return self==value.\n",
            " |  \n",
            " |  __ge__(self, value, /)\n",
            " |      Return self>=value.\n",
            " |  \n",
            " |  __getattribute__(self, name, /)\n",
            " |      Return getattr(self, name).\n",
            " |  \n",
            " |  __getitem__(...)\n",
            " |      x.__getitem__(y) <==> x[y]\n",
            " |  \n",
            " |  __gt__(self, value, /)\n",
            " |      Return self>value.\n",
            " |  \n",
            " |  __iadd__(self, value, /)\n",
            " |      Implement self+=value.\n",
            " |  \n",
            " |  __imul__(self, value, /)\n",
            " |      Implement self*=value.\n",
            " |  \n",
            " |  __init__(self, /, *args, **kwargs)\n",
            " |      Initialize self.  See help(type(self)) for accurate signature.\n",
            " |  \n",
            " |  __iter__(self, /)\n",
            " |      Implement iter(self).\n",
            " |  \n",
            " |  __le__(self, value, /)\n",
            " |      Return self<=value.\n",
            " |  \n",
            " |  __len__(self, /)\n",
            " |      Return len(self).\n",
            " |  \n",
            " |  __lt__(self, value, /)\n",
            " |      Return self<value.\n",
            " |  \n",
            " |  __mul__(self, value, /)\n",
            " |      Return self*value.\n",
            " |  \n",
            " |  __ne__(self, value, /)\n",
            " |      Return self!=value.\n",
            " |  \n",
            " |  __new__(*args, **kwargs) from builtins.type\n",
            " |      Create and return a new object.  See help(type) for accurate signature.\n",
            " |  \n",
            " |  __repr__(self, /)\n",
            " |      Return repr(self).\n",
            " |  \n",
            " |  __reversed__(...)\n",
            " |      L.__reversed__() -- return a reverse iterator over the list\n",
            " |  \n",
            " |  __rmul__(self, value, /)\n",
            " |      Return value*self.\n",
            " |  \n",
            " |  __setitem__(self, key, value, /)\n",
            " |      Set self[key] to value.\n",
            " |  \n",
            " |  __sizeof__(...)\n",
            " |      L.__sizeof__() -- size of L in memory, in bytes\n",
            " |  \n",
            " |  append(...)\n",
            " |      L.append(object) -> None -- append object to end\n",
            " |  \n",
            " |  clear(...)\n",
            " |      L.clear() -> None -- remove all items from L\n",
            " |  \n",
            " |  copy(...)\n",
            " |      L.copy() -> list -- a shallow copy of L\n",
            " |  \n",
            " |  count(...)\n",
            " |      L.count(value) -> integer -- return number of occurrences of value\n",
            " |  \n",
            " |  extend(...)\n",
            " |      L.extend(iterable) -> None -- extend list by appending elements from the iterable\n",
            " |  \n",
            " |  index(...)\n",
            " |      L.index(value, [start, [stop]]) -> integer -- return first index of value.\n",
            " |      Raises ValueError if the value is not present.\n",
            " |  \n",
            " |  insert(...)\n",
            " |      L.insert(index, object) -- insert object before index\n",
            " |  \n",
            " |  pop(...)\n",
            " |      L.pop([index]) -> item -- remove and return item at index (default last).\n",
            " |      Raises IndexError if list is empty or index is out of range.\n",
            " |  \n",
            " |  remove(...)\n",
            " |      L.remove(value) -> None -- remove first occurrence of value.\n",
            " |      Raises ValueError if the value is not present.\n",
            " |  \n",
            " |  reverse(...)\n",
            " |      L.reverse() -- reverse *IN PLACE*\n",
            " |  \n",
            " |  sort(...)\n",
            " |      L.sort(key=None, reverse=False) -> None -- stable sort *IN PLACE*\n",
            " |  \n",
            " |  ----------------------------------------------------------------------\n",
            " |  Data and other attributes defined here:\n",
            " |  \n",
            " |  __hash__ = None\n",
            "\n"
          ],
          "name": "stdout"
        },
        {
          "output_type": "execute_result",
          "data": {
            "text/plain": [
              "['__add__',\n",
              " '__class__',\n",
              " '__contains__',\n",
              " '__delattr__',\n",
              " '__delitem__',\n",
              " '__dir__',\n",
              " '__doc__',\n",
              " '__eq__',\n",
              " '__format__',\n",
              " '__ge__',\n",
              " '__getattribute__',\n",
              " '__getitem__',\n",
              " '__gt__',\n",
              " '__hash__',\n",
              " '__iadd__',\n",
              " '__imul__',\n",
              " '__init__',\n",
              " '__init_subclass__',\n",
              " '__iter__',\n",
              " '__le__',\n",
              " '__len__',\n",
              " '__lt__',\n",
              " '__mul__',\n",
              " '__ne__',\n",
              " '__new__',\n",
              " '__reduce__',\n",
              " '__reduce_ex__',\n",
              " '__repr__',\n",
              " '__reversed__',\n",
              " '__rmul__',\n",
              " '__setattr__',\n",
              " '__setitem__',\n",
              " '__sizeof__',\n",
              " '__str__',\n",
              " '__subclasshook__',\n",
              " 'append',\n",
              " 'clear',\n",
              " 'copy',\n",
              " 'count',\n",
              " 'extend',\n",
              " 'index',\n",
              " 'insert',\n",
              " 'pop',\n",
              " 'remove',\n",
              " 'reverse',\n",
              " 'sort']"
            ]
          },
          "metadata": {
            "tags": []
          },
          "execution_count": 9
        }
      ]
    },
    {
      "cell_type": "code",
      "metadata": {
        "colab": {
          "base_uri": "https://localhost:8080/"
        },
        "id": "465W63bM0ev7",
        "outputId": "cc37eb12-8f27-4851-edd6-54cdcd966922"
      },
      "source": [
        "S = {}\n",
        "dir(S)"
      ],
      "execution_count": null,
      "outputs": [
        {
          "output_type": "execute_result",
          "data": {
            "text/plain": [
              "['__class__',\n",
              " '__contains__',\n",
              " '__delattr__',\n",
              " '__delitem__',\n",
              " '__dir__',\n",
              " '__doc__',\n",
              " '__eq__',\n",
              " '__format__',\n",
              " '__ge__',\n",
              " '__getattribute__',\n",
              " '__getitem__',\n",
              " '__gt__',\n",
              " '__hash__',\n",
              " '__init__',\n",
              " '__init_subclass__',\n",
              " '__iter__',\n",
              " '__le__',\n",
              " '__len__',\n",
              " '__lt__',\n",
              " '__ne__',\n",
              " '__new__',\n",
              " '__reduce__',\n",
              " '__reduce_ex__',\n",
              " '__repr__',\n",
              " '__setattr__',\n",
              " '__setitem__',\n",
              " '__sizeof__',\n",
              " '__str__',\n",
              " '__subclasshook__',\n",
              " 'clear',\n",
              " 'copy',\n",
              " 'fromkeys',\n",
              " 'get',\n",
              " 'items',\n",
              " 'keys',\n",
              " 'pop',\n",
              " 'popitem',\n",
              " 'setdefault',\n",
              " 'update',\n",
              " 'values']"
            ]
          },
          "metadata": {
            "tags": []
          },
          "execution_count": 14
        }
      ]
    },
    {
      "cell_type": "code",
      "metadata": {
        "colab": {
          "base_uri": "https://localhost:8080/"
        },
        "id": "vr0Ejt3L0kwt",
        "outputId": "7b763492-251e-414c-8bf8-4c7e69001ede"
      },
      "source": [
        "T = ()\n",
        "dir(T)"
      ],
      "execution_count": null,
      "outputs": [
        {
          "output_type": "execute_result",
          "data": {
            "text/plain": [
              "['__add__',\n",
              " '__class__',\n",
              " '__contains__',\n",
              " '__delattr__',\n",
              " '__dir__',\n",
              " '__doc__',\n",
              " '__eq__',\n",
              " '__format__',\n",
              " '__ge__',\n",
              " '__getattribute__',\n",
              " '__getitem__',\n",
              " '__getnewargs__',\n",
              " '__gt__',\n",
              " '__hash__',\n",
              " '__init__',\n",
              " '__init_subclass__',\n",
              " '__iter__',\n",
              " '__le__',\n",
              " '__len__',\n",
              " '__lt__',\n",
              " '__mul__',\n",
              " '__ne__',\n",
              " '__new__',\n",
              " '__reduce__',\n",
              " '__reduce_ex__',\n",
              " '__repr__',\n",
              " '__rmul__',\n",
              " '__setattr__',\n",
              " '__sizeof__',\n",
              " '__str__',\n",
              " '__subclasshook__',\n",
              " 'count',\n",
              " 'index']"
            ]
          },
          "metadata": {
            "tags": []
          },
          "execution_count": 12
        }
      ]
    },
    {
      "cell_type": "code",
      "metadata": {
        "colab": {
          "base_uri": "https://localhost:8080/"
        },
        "id": "eaOBUZpI0oKg",
        "outputId": "e90c28cb-b2a9-4fbf-cb61-f8a5d22e5eb2"
      },
      "source": [
        "D = {\"\":\"\"}\n",
        "dir(D)"
      ],
      "execution_count": null,
      "outputs": [
        {
          "output_type": "execute_result",
          "data": {
            "text/plain": [
              "['__class__',\n",
              " '__contains__',\n",
              " '__delattr__',\n",
              " '__delitem__',\n",
              " '__dir__',\n",
              " '__doc__',\n",
              " '__eq__',\n",
              " '__format__',\n",
              " '__ge__',\n",
              " '__getattribute__',\n",
              " '__getitem__',\n",
              " '__gt__',\n",
              " '__hash__',\n",
              " '__init__',\n",
              " '__init_subclass__',\n",
              " '__iter__',\n",
              " '__le__',\n",
              " '__len__',\n",
              " '__lt__',\n",
              " '__ne__',\n",
              " '__new__',\n",
              " '__reduce__',\n",
              " '__reduce_ex__',\n",
              " '__repr__',\n",
              " '__setattr__',\n",
              " '__setitem__',\n",
              " '__sizeof__',\n",
              " '__str__',\n",
              " '__subclasshook__',\n",
              " 'clear',\n",
              " 'copy',\n",
              " 'fromkeys',\n",
              " 'get',\n",
              " 'items',\n",
              " 'keys',\n",
              " 'pop',\n",
              " 'popitem',\n",
              " 'setdefault',\n",
              " 'update',\n",
              " 'values']"
            ]
          },
          "metadata": {
            "tags": []
          },
          "execution_count": 15
        }
      ]
    },
    {
      "cell_type": "code",
      "metadata": {
        "id": "2DM-ulV10rf8"
      },
      "source": [
        ""
      ],
      "execution_count": null,
      "outputs": []
    }
  ]
}