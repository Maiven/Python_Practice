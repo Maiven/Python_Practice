{
  "nbformat": 4,
  "nbformat_minor": 0,
  "metadata": {
    "colab": {
      "name": "python_practice.ipynb",
      "provenance": [],
      "authorship_tag": "ABX9TyOMe7n3mSnuQ17l+DHdfAmj",
      "include_colab_link": true
    },
    "kernelspec": {
      "name": "python3",
      "display_name": "Python 3"
    }
  },
  "cells": [
    {
      "cell_type": "markdown",
      "metadata": {
        "id": "view-in-github",
        "colab_type": "text"
      },
      "source": [
        "<a href=\"https://colab.research.google.com/github/Maiven/Python_Practice/blob/master/python_practice.ipynb\" target=\"_parent\"><img src=\"https://colab.research.google.com/assets/colab-badge.svg\" alt=\"Open In Colab\"/></a>"
      ]
    },
    {
      "cell_type": "markdown",
      "metadata": {
        "id": "liIftwLDgcKI"
      },
      "source": [
        "# Project - Solar System - Astroquery 라이브러리 사용하기"
      ]
    },
    {
      "cell_type": "code",
      "metadata": {
        "colab": {
          "base_uri": "https://localhost:8080/"
        },
        "id": "GYp2kG26RNn7",
        "outputId": "b634ad52-705c-4411-c86c-bfd8fd9c010b"
      },
      "source": [
        "pip install pygame"
      ],
      "execution_count": 1,
      "outputs": [
        {
          "output_type": "stream",
          "text": [
            "Collecting pygame\n",
            "\u001b[?25l  Downloading https://files.pythonhosted.org/packages/87/4c/2ebe8ab1a695a446574bc48d96eb3503649893be8c769e7fafd65fd18833/pygame-2.0.0-cp36-cp36m-manylinux1_x86_64.whl (11.5MB)\n",
            "\u001b[K     |████████████████████████████████| 11.5MB 6.6MB/s \n",
            "\u001b[?25hInstalling collected packages: pygame\n",
            "Successfully installed pygame-2.0.0\n"
          ],
          "name": "stdout"
        }
      ]
    },
    {
      "cell_type": "code",
      "metadata": {
        "colab": {
          "base_uri": "https://localhost:8080/"
        },
        "id": "JDh43fsaRYW-",
        "outputId": "f8c5e0ca-9a25-4908-c4d9-38fb443f43ae"
      },
      "source": [
        "pip install display"
      ],
      "execution_count": 2,
      "outputs": [
        {
          "output_type": "stream",
          "text": [
            "Collecting display\n",
            "  Downloading https://files.pythonhosted.org/packages/1f/ee/0597a1a76c04e38caa67e5676be0ff116e5b4e8d52c3b323988448a058b3/display-1.0.0.tar.gz\n",
            "Building wheels for collected packages: display\n",
            "  Building wheel for display (setup.py) ... \u001b[?25l\u001b[?25hdone\n",
            "  Created wheel for display: filename=display-1.0.0-cp36-none-any.whl size=1406 sha256=6967d326a5ed3b7fdb7c1b2da9e234ec74d95dd51646b43bd84e87c21237d980\n",
            "  Stored in directory: /root/.cache/pip/wheels/da/65/2c/318b8e036689f425f6e26d51b83ca79bc44625fe96c91ba0bc\n",
            "Successfully built display\n",
            "Installing collected packages: display\n",
            "Successfully installed display-1.0.0\n"
          ],
          "name": "stdout"
        }
      ]
    },
    {
      "cell_type": "code",
      "metadata": {
        "id": "EgKIO-Rhfhjt"
      },
      "source": [
        "from urllib.parse import parse_qs\n",
        "# urllib.parse는 python 3의 모듈이다. 2의 경우엔 urlparse 모듈을 사용하자.\n",
        "\n",
        "\n",
        "my_values = parse_qs('red=5&blue=0&green=',keep_blank_values=True)"
      ],
      "execution_count": 3,
      "outputs": []
    },
    {
      "cell_type": "code",
      "metadata": {
        "colab": {
          "base_uri": "https://localhost:8080/"
        },
        "id": "0MtT0HJnfXy8",
        "outputId": "d027660b-8a68-49c1-9a5a-9c1182a72f22"
      },
      "source": [
        "red = int(my_values.get('red', [''])[0] or 0)\n",
        "\n",
        "red = my_values.get('red',[''])\n",
        "red = int(red[0]) if red[0] else 0\n",
        "print(red)\n"
      ],
      "execution_count": 4,
      "outputs": [
        {
          "output_type": "stream",
          "text": [
            "5\n"
          ],
          "name": "stdout"
        }
      ]
    },
    {
      "cell_type": "code",
      "metadata": {
        "colab": {
          "base_uri": "https://localhost:8080/"
        },
        "id": "xsbIugxzfm2j",
        "outputId": "52d7f8b5-077c-41e5-971a-c944bced990f"
      },
      "source": [
        "green = my_values.get('green', [''])\n",
        "if green[0]:\n",
        "    green = int(green[0])\n",
        "    print(green)\n",
        "else:\n",
        "    green = 0\n",
        "    print(green)"
      ],
      "execution_count": 5,
      "outputs": [
        {
          "output_type": "stream",
          "text": [
            "0\n"
          ],
          "name": "stdout"
        }
      ]
    },
    {
      "cell_type": "code",
      "metadata": {
        "colab": {
          "base_uri": "https://localhost:8080/"
        },
        "id": "rZHY03O2FHUT",
        "outputId": "60838540-2376-46cd-b34b-63ef5f2ade8c"
      },
      "source": [
        "pip install pandas"
      ],
      "execution_count": 6,
      "outputs": [
        {
          "output_type": "stream",
          "text": [
            "Requirement already satisfied: pandas in /usr/local/lib/python3.6/dist-packages (1.1.4)\n",
            "Requirement already satisfied: pytz>=2017.2 in /usr/local/lib/python3.6/dist-packages (from pandas) (2018.9)\n",
            "Requirement already satisfied: numpy>=1.15.4 in /usr/local/lib/python3.6/dist-packages (from pandas) (1.18.5)\n",
            "Requirement already satisfied: python-dateutil>=2.7.3 in /usr/local/lib/python3.6/dist-packages (from pandas) (2.8.1)\n",
            "Requirement already satisfied: six>=1.5 in /usr/local/lib/python3.6/dist-packages (from python-dateutil>=2.7.3->pandas) (1.15.0)\n"
          ],
          "name": "stdout"
        }
      ]
    },
    {
      "cell_type": "code",
      "metadata": {
        "colab": {
          "base_uri": "https://localhost:8080/"
        },
        "id": "hRxmbBVYzN7K",
        "outputId": "11e79ed4-94b2-4a73-a356-44abcc6aea27"
      },
      "source": [
        "pip install --upgrade astropy"
      ],
      "execution_count": 7,
      "outputs": [
        {
          "output_type": "stream",
          "text": [
            "Requirement already up-to-date: astropy in /usr/local/lib/python3.6/dist-packages (4.1)\n",
            "Requirement already satisfied, skipping upgrade: numpy>=1.16 in /usr/local/lib/python3.6/dist-packages (from astropy) (1.18.5)\n"
          ],
          "name": "stdout"
        }
      ]
    },
    {
      "cell_type": "code",
      "metadata": {
        "colab": {
          "base_uri": "https://localhost:8080/"
        },
        "id": "0ogd57AV0OO9",
        "outputId": "c56c8c5d-65ed-42ab-c0c2-0cebf6de2d39"
      },
      "source": [
        "pip install --upgrade astroquery"
      ],
      "execution_count": 12,
      "outputs": [
        {
          "output_type": "stream",
          "text": [
            "Collecting astroquery\n",
            "\u001b[?25l  Downloading https://files.pythonhosted.org/packages/1b/f8/4690523783691ed816b3469c3ec611af3798594d37ade510dd918d59f57e/astroquery-0.4.1.tar.gz (6.5MB)\n",
            "\u001b[K     |████████████████████████████████| 6.5MB 5.3MB/s \n",
            "\u001b[?25hRequirement already satisfied, skipping upgrade: numpy in /usr/local/lib/python3.6/dist-packages (from astroquery) (1.18.5)\n",
            "Requirement already satisfied, skipping upgrade: astropy>=3.1 in /usr/local/lib/python3.6/dist-packages (from astroquery) (4.1)\n",
            "Requirement already satisfied, skipping upgrade: requests>=2.4.3 in /usr/local/lib/python3.6/dist-packages (from astroquery) (2.23.0)\n",
            "Collecting keyring>=4.0\n",
            "  Downloading https://files.pythonhosted.org/packages/53/14/1c952bcd21255f42f9ba0280d3abd8074dca2c27d136eb749b98ab478f72/keyring-21.5.0-py3-none-any.whl\n",
            "Requirement already satisfied, skipping upgrade: beautifulsoup4>=4.3.2 in /usr/local/lib/python3.6/dist-packages (from astroquery) (4.6.3)\n",
            "Requirement already satisfied, skipping upgrade: html5lib>=0.999 in /usr/local/lib/python3.6/dist-packages (from astroquery) (1.0.1)\n",
            "Requirement already satisfied, skipping upgrade: six in /usr/local/lib/python3.6/dist-packages (from astroquery) (1.15.0)\n",
            "Requirement already satisfied, skipping upgrade: idna<3,>=2.5 in /usr/local/lib/python3.6/dist-packages (from requests>=2.4.3->astroquery) (2.10)\n",
            "Requirement already satisfied, skipping upgrade: urllib3!=1.25.0,!=1.25.1,<1.26,>=1.21.1 in /usr/local/lib/python3.6/dist-packages (from requests>=2.4.3->astroquery) (1.24.3)\n",
            "Requirement already satisfied, skipping upgrade: chardet<4,>=3.0.2 in /usr/local/lib/python3.6/dist-packages (from requests>=2.4.3->astroquery) (3.0.4)\n",
            "Requirement already satisfied, skipping upgrade: certifi>=2017.4.17 in /usr/local/lib/python3.6/dist-packages (from requests>=2.4.3->astroquery) (2020.11.8)\n",
            "Collecting jeepney>=0.4.2; sys_platform == \"linux\"\n",
            "\u001b[?25l  Downloading https://files.pythonhosted.org/packages/51/b0/a6ea72741aaac3f37fb96d195e4ee576a103c4c04e279bc6b446a70960e1/jeepney-0.6.0-py3-none-any.whl (45kB)\n",
            "\u001b[K     |████████████████████████████████| 51kB 6.6MB/s \n",
            "\u001b[?25hRequirement already satisfied, skipping upgrade: importlib-metadata>=1; python_version < \"3.8\" in /usr/local/lib/python3.6/dist-packages (from keyring>=4.0->astroquery) (2.0.0)\n",
            "Collecting SecretStorage>=3.2; sys_platform == \"linux\"\n",
            "  Downloading https://files.pythonhosted.org/packages/63/a2/a6d9099b14eb5dbbb04fb722d2b5322688f8f99b471bdf2097e33efa8091/SecretStorage-3.3.0-py3-none-any.whl\n",
            "Requirement already satisfied, skipping upgrade: webencodings in /usr/local/lib/python3.6/dist-packages (from html5lib>=0.999->astroquery) (0.5.1)\n",
            "Requirement already satisfied, skipping upgrade: zipp>=0.5 in /usr/local/lib/python3.6/dist-packages (from importlib-metadata>=1; python_version < \"3.8\"->keyring>=4.0->astroquery) (3.4.0)\n",
            "Collecting cryptography>=2.0\n",
            "\u001b[?25l  Downloading https://files.pythonhosted.org/packages/c9/de/7054df0620b5411ba45480f0261e1fb66a53f3db31b28e3aa52c026e72d9/cryptography-3.3.1-cp36-abi3-manylinux2010_x86_64.whl (2.6MB)\n",
            "\u001b[K     |████████████████████████████████| 2.6MB 51.3MB/s \n",
            "\u001b[?25hRequirement already satisfied, skipping upgrade: cffi>=1.12 in /usr/local/lib/python3.6/dist-packages (from cryptography>=2.0->SecretStorage>=3.2; sys_platform == \"linux\"->keyring>=4.0->astroquery) (1.14.3)\n",
            "Requirement already satisfied, skipping upgrade: pycparser in /usr/local/lib/python3.6/dist-packages (from cffi>=1.12->cryptography>=2.0->SecretStorage>=3.2; sys_platform == \"linux\"->keyring>=4.0->astroquery) (2.20)\n",
            "Building wheels for collected packages: astroquery\n",
            "  Building wheel for astroquery (setup.py) ... \u001b[?25l\u001b[?25hdone\n",
            "  Created wheel for astroquery: filename=astroquery-0.4.1-cp36-none-any.whl size=3831873 sha256=ce2b1541ded67313dca9152111276c1056ee907c4d5848e4c5bd521b32e9c955\n",
            "  Stored in directory: /root/.cache/pip/wheels/88/f8/b7/a254cd96e808f708bc0b7d755a8e095c56fbbe94099d7b464f\n",
            "Successfully built astroquery\n",
            "Installing collected packages: jeepney, cryptography, SecretStorage, keyring, astroquery\n",
            "Successfully installed SecretStorage-3.3.0 astroquery-0.4.1 cryptography-3.3.1 jeepney-0.6.0 keyring-21.5.0\n"
          ],
          "name": "stdout"
        }
      ]
    },
    {
      "cell_type": "code",
      "metadata": {
        "colab": {
          "base_uri": "https://localhost:8080/",
          "height": 1000
        },
        "id": "myU3dSWLyKxp",
        "outputId": "6cdb52df-e3de-4858-9875-3a6e2c4d3d11"
      },
      "source": [
        "#!/usr/bin/env python\n",
        "import numpy as np\n",
        "import matplotlib.pyplot as plt\n",
        "import matplotlib.animation as animation\n",
        "import astropy\n",
        "from astropy.time import Time\n",
        "from astroquery.jplhorizons import Horizons\n",
        "\n",
        "sim_start_date = \"2018-01-01\"     # simulating a solar system starting from this date\n",
        "sim_duration = 2 * 365                # (int) simulation duration in days\n",
        "m_earth = 5.9722e24 / 1.98847e30  # Mass of Earth relative to mass of the sun\n",
        "m_moon = 7.3477e22 / 1.98847e30\n",
        "\n",
        "class Object:                   # define the objects: the Sun, Earth, Mercury, etc\n",
        "    def __init__(self, name, rad, color, r, v):\n",
        "        self.name = name\n",
        "        self.r    = np.array(r, dtype=np.float)\n",
        "        self.v    = np.array(v, dtype=np.float)\n",
        "        self.xs = []\n",
        "        self.ys = []\n",
        "        self.plot = ax.scatter(r[0], r[1], color=color, s=rad**2, edgecolors=None, zorder=10)\n",
        "        self.line, = ax.plot([], [], color=color, linewidth=1.4)\n",
        "\n",
        "class SolarSystem:\n",
        "    def __init__(self, thesun):\n",
        "        self.thesun = thesun\n",
        "        self.planets = []\n",
        "        self.time = None\n",
        "        self.timestamp = ax.text(.03, .94, 'Date: ', color='w', transform=ax.transAxes, fontsize='x-large')\n",
        "    def add_planet(self, planet):\n",
        "        self.planets.append(planet)\n",
        "    def evolve(self):           # evolve the trajectories\n",
        "        dt = 1.0\n",
        "        self.time += dt\n",
        "        plots = []\n",
        "        lines = []\n",
        "        for p in self.planets:\n",
        "            p.r += p.v * dt\n",
        "            acc = -2.959e-4 * p.r / np.sum(p.r**2)**(3./2)  # in units of AU/day^2\n",
        "            p.v += acc * dt\n",
        "            p.xs.append(p.r[0])\n",
        "            p.ys.append(p.r[1])\n",
        "            p.plot.set_offsets(p.r[:2])\n",
        "            p.line.set_xdata(p.xs)\n",
        "            p.line.set_ydata(p.ys)\n",
        "            plots.append(p.plot)\n",
        "            lines.append(p.line)\n",
        "        self.timestamp.set_text('Date: ' + Time(self.time, format='jd', out_subfmt='date').iso)\n",
        "        return plots + lines + [self.timestamp]\n",
        "\n",
        "plt.style.use('dark_background')\n",
        "fig = plt.figure(figsize=[6, 6])\n",
        "ax = plt.axes([0., 0., 1., 1.], xlim=(-1.8, 1.8), ylim=(-1.8, 1.8))\n",
        "ax.set_aspect('equal')\n",
        "ax.axis('off')\n",
        "ss = SolarSystem(Object(\"Sun\", 28, 'red', [0, 0, 0], [0, 0, 0]))\n",
        "ss.time = Time(sim_start_date).jd\n",
        "colors = ['gray', 'orange', 'blue', 'chocolate']\n",
        "sizes = [0.38, 0.95, 1., 0.53]\n",
        "names = ['Mercury', 'Venus', 'Earth', 'Mars']\n",
        "texty = [.47, .73, 1, 1.5]\n",
        "for i, nasaid in enumerate([1, 2, 3, 4]):  # The 1st, 2nd, 3rd, 4th planet in solar system\n",
        "    obj = Horizons(id=nasaid, location=\"@sun\", epochs=ss.time, id_type='id').vectors()\n",
        "    ss.add_planet(Object(nasaid, 20 * sizes[i], colors[i], \n",
        "                         [np.double(obj[xi]) for xi in ['x', 'y', 'z']], \n",
        "                         [np.double(obj[vxi]) for vxi in ['vx', 'vy', 'vz']]))\n",
        "    ax.text(0, - (texty[i] + 0.1), names[i], color=colors[i], zorder=1000, ha='center', fontsize='large')\n",
        "def animate(i):\n",
        "    return ss.evolve()\n",
        "ani = animation.FuncAnimation(fig, animate, repeat=False, frames=sim_duration, blit=True, interval=20,)\n",
        "plt.show()\n",
        "# ani.save('solar_system_6in_150dpi.mp4', fps=60, dpi=150)"
      ],
      "execution_count": 14,
      "outputs": [
        {
          "output_type": "stream",
          "text": [
            "Traceback (most recent call last):\n",
            "  File \"/usr/local/lib/python3.6/dist-packages/astropy/time/core.py\", line 548, in _get_time_fmt\n",
            "    return cls(val, val2, scale, precision, in_subfmt, out_subfmt)\n",
            "  File \"/usr/local/lib/python3.6/dist-packages/astropy/time/formats.py\", line 139, in __init__\n",
            "    self.out_subfmt = out_subfmt\n",
            "  File \"/usr/local/lib/python3.6/dist-packages/astropy/time/formats.py\", line 181, in out_subfmt\n",
            "    self._select_subfmts(subfmt)\n",
            "  File \"/usr/local/lib/python3.6/dist-packages/astropy/time/formats.py\", line 392, in _select_subfmts\n",
            "    raise ValueError(f'subformat {pattern!r} must match one of '\n",
            "ValueError: subformat 'date' must match one of ['float', 'long', 'decimal', 'str', 'bytes'] for format jd\n",
            "\n",
            "The above exception was the direct cause of the following exception:\n",
            "\n",
            "Traceback (most recent call last):\n",
            "  File \"/usr/local/lib/python3.6/dist-packages/matplotlib/cbook/__init__.py\", line 196, in process\n",
            "    func(*args, **kwargs)\n",
            "  File \"/usr/local/lib/python3.6/dist-packages/matplotlib/animation.py\", line 951, in _start\n",
            "    self._init_draw()\n",
            "  File \"/usr/local/lib/python3.6/dist-packages/matplotlib/animation.py\", line 1743, in _init_draw\n",
            "    self._draw_frame(next(self.new_frame_seq()))\n",
            "  File \"/usr/local/lib/python3.6/dist-packages/matplotlib/animation.py\", line 1766, in _draw_frame\n",
            "    self._drawn_artists = self._func(framedata, *self._args)\n",
            "  File \"<ipython-input-14-d9ccb94d7a7f>\", line 69, in animate\n",
            "    return ss.evolve()\n",
            "  File \"<ipython-input-14-d9ccb94d7a7f>\", line 48, in evolve\n",
            "    self.timestamp.set_text('Date: ' + Time(self.time, format='jd', out_subfmt='date').iso)\n",
            "  File \"/usr/local/lib/python3.6/dist-packages/astropy/time/core.py\", line 436, in __init__\n",
            "    precision, in_subfmt, out_subfmt)\n",
            "  File \"/usr/local/lib/python3.6/dist-packages/astropy/time/core.py\", line 491, in _init_from_vals\n",
            "    precision, in_subfmt, out_subfmt)\n",
            "  File \"/usr/local/lib/python3.6/dist-packages/astropy/time/core.py\", line 560, in _get_time_fmt\n",
            "    ) from err\n",
            "ValueError: Input values did not match the format class jd:\n",
            "ValueError: subformat 'date' must match one of ['float', 'long', 'decimal', 'str', 'bytes'] for format jd\n"
          ],
          "name": "stderr"
        },
        {
          "output_type": "display_data",
          "data": {
            "image/png": "[encoded data removed]",
            "text/plain": [
              "<Figure size 432x432 with 1 Axes>"
            ]
          },
          "metadata": {
            "tags": []
          }
        }
      ]
    }
  ]
}