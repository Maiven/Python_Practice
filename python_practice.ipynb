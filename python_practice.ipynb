{
  "nbformat": 4,
  "nbformat_minor": 0,
  "metadata": {
    "colab": {
      "name": "python_practice.ipynb",
      "provenance": [],
      "collapsed_sections": [],
      "authorship_tag": "ABX9TyNfa725YpFzyX7nIdguaLHB",
      "include_colab_link": true
    },
    "kernelspec": {
      "name": "python3",
      "display_name": "Python 3"
    }
  },
  "cells": [
    {
      "cell_type": "markdown",
      "metadata": {
        "id": "view-in-github",
        "colab_type": "text"
      },
      "source": [
        "<a href=\"https://colab.research.google.com/github/Maiven/personal_Python_Practice/blob/master/python_practice.ipynb\" target=\"_parent\"><img src=\"https://colab.research.google.com/assets/colab-badge.svg\" alt=\"Open In Colab\"/></a>"
      ]
    },
    {
      "cell_type": "markdown",
      "metadata": {
        "id": "liIftwLDgcKI"
      },
      "source": [
        "# Project - Solar System - Astroquery 라이브러리 사용하기"
      ]
    },
    {
      "cell_type": "code",
      "metadata": {
        "colab": {
          "base_uri": "https://localhost:8080/"
        },
        "id": "GYp2kG26RNn7",
        "outputId": "b634ad52-705c-4411-c86c-bfd8fd9c010b"
      },
      "source": [
        "pip install pygame"
      ],
      "execution_count": null,
      "outputs": [
        {
          "output_type": "stream",
          "text": [
            "Collecting pygame\n",
            "\u001b[?25l  Downloading https://files.pythonhosted.org/packages/87/4c/2ebe8ab1a695a446574bc48d96eb3503649893be8c769e7fafd65fd18833/pygame-2.0.0-cp36-cp36m-manylinux1_x86_64.whl (11.5MB)\n",
            "\u001b[K     |████████████████████████████████| 11.5MB 6.6MB/s \n",
            "\u001b[?25hInstalling collected packages: pygame\n",
            "Successfully installed pygame-2.0.0\n"
          ],
          "name": "stdout"
        }
      ]
    },
    {
      "cell_type": "code",
      "metadata": {
        "colab": {
          "base_uri": "https://localhost:8080/"
        },
        "id": "JDh43fsaRYW-",
        "outputId": "f8c5e0ca-9a25-4908-c4d9-38fb443f43ae"
      },
      "source": [
        "pip install display"
      ],
      "execution_count": null,
      "outputs": [
        {
          "output_type": "stream",
          "text": [
            "Collecting display\n",
            "  Downloading https://files.pythonhosted.org/packages/1f/ee/0597a1a76c04e38caa67e5676be0ff116e5b4e8d52c3b323988448a058b3/display-1.0.0.tar.gz\n",
            "Building wheels for collected packages: display\n",
            "  Building wheel for display (setup.py) ... \u001b[?25l\u001b[?25hdone\n",
            "  Created wheel for display: filename=display-1.0.0-cp36-none-any.whl size=1406 sha256=6967d326a5ed3b7fdb7c1b2da9e234ec74d95dd51646b43bd84e87c21237d980\n",
            "  Stored in directory: /root/.cache/pip/wheels/da/65/2c/318b8e036689f425f6e26d51b83ca79bc44625fe96c91ba0bc\n",
            "Successfully built display\n",
            "Installing collected packages: display\n",
            "Successfully installed display-1.0.0\n"
          ],
          "name": "stdout"
        }
      ]
    },
    {
      "cell_type": "code",
      "metadata": {
        "id": "EgKIO-Rhfhjt"
      },
      "source": [
        "from urllib.parse import parse_qs\n",
        "# urllib.parse는 python 3의 모듈이다. 2의 경우엔 urlparse 모듈을 사용하자.\n",
        "\n",
        "\n",
        "my_values = parse_qs('red=5&blue=0&green=',keep_blank_values=True)"
      ],
      "execution_count": null,
      "outputs": []
    },
    {
      "cell_type": "code",
      "metadata": {
        "colab": {
          "base_uri": "https://localhost:8080/"
        },
        "id": "0MtT0HJnfXy8",
        "outputId": "d027660b-8a68-49c1-9a5a-9c1182a72f22"
      },
      "source": [
        "red = int(my_values.get('red', [''])[0] or 0)\n",
        "\n",
        "red = my_values.get('red',[''])\n",
        "red = int(red[0]) if red[0] else 0\n",
        "print(red)\n"
      ],
      "execution_count": null,
      "outputs": [
        {
          "output_type": "stream",
          "text": [
            "5\n"
          ],
          "name": "stdout"
        }
      ]
    },
    {
      "cell_type": "code",
      "metadata": {
        "colab": {
          "base_uri": "https://localhost:8080/"
        },
        "id": "xsbIugxzfm2j",
        "outputId": "52d7f8b5-077c-41e5-971a-c944bced990f"
      },
      "source": [
        "green = my_values.get('green', [''])\n",
        "if green[0]:\n",
        "    green = int(green[0])\n",
        "    print(green)\n",
        "else:\n",
        "    green = 0\n",
        "    print(green)"
      ],
      "execution_count": null,
      "outputs": [
        {
          "output_type": "stream",
          "text": [
            "0\n"
          ],
          "name": "stdout"
        }
      ]
    },
    {
      "cell_type": "code",
      "metadata": {
        "colab": {
          "base_uri": "https://localhost:8080/"
        },
        "id": "rZHY03O2FHUT",
        "outputId": "60838540-2376-46cd-b34b-63ef5f2ade8c"
      },
      "source": [
        "pip install pandas"
      ],
      "execution_count": null,
      "outputs": [
        {
          "output_type": "stream",
          "text": [
            "Requirement already satisfied: pandas in /usr/local/lib/python3.6/dist-packages (1.1.4)\n",
            "Requirement already satisfied: pytz>=2017.2 in /usr/local/lib/python3.6/dist-packages (from pandas) (2018.9)\n",
            "Requirement already satisfied: numpy>=1.15.4 in /usr/local/lib/python3.6/dist-packages (from pandas) (1.18.5)\n",
            "Requirement already satisfied: python-dateutil>=2.7.3 in /usr/local/lib/python3.6/dist-packages (from pandas) (2.8.1)\n",
            "Requirement already satisfied: six>=1.5 in /usr/local/lib/python3.6/dist-packages (from python-dateutil>=2.7.3->pandas) (1.15.0)\n"
          ],
          "name": "stdout"
        }
      ]
    },
    {
      "cell_type": "code",
      "metadata": {
        "colab": {
          "base_uri": "https://localhost:8080/"
        },
        "id": "hRxmbBVYzN7K",
        "outputId": "11e79ed4-94b2-4a73-a356-44abcc6aea27"
      },
      "source": [
        "pip install --upgrade astropy"
      ],
      "execution_count": null,
      "outputs": [
        {
          "output_type": "stream",
          "text": [
            "Requirement already up-to-date: astropy in /usr/local/lib/python3.6/dist-packages (4.1)\n",
            "Requirement already satisfied, skipping upgrade: numpy>=1.16 in /usr/local/lib/python3.6/dist-packages (from astropy) (1.18.5)\n"
          ],
          "name": "stdout"
        }
      ]
    },
    {
      "cell_type": "code",
      "metadata": {
        "colab": {
          "base_uri": "https://localhost:8080/"
        },
        "id": "0ogd57AV0OO9",
        "outputId": "224e24ca-1d4d-4320-fb07-33ce4847a5ac"
      },
      "source": [
        "pip install --upgrade astroquery"
      ],
      "execution_count": null,
      "outputs": [
        {
          "output_type": "stream",
          "text": [
            "Collecting astroquery\n",
            "\u001b[?25l  Downloading https://files.pythonhosted.org/packages/1b/f8/4690523783691ed816b3469c3ec611af3798594d37ade510dd918d59f57e/astroquery-0.4.1.tar.gz (6.5MB)\n",
            "\u001b[K     |████████████████████████████████| 6.5MB 10.7MB/s \n",
            "\u001b[?25hRequirement already satisfied, skipping upgrade: numpy in /usr/local/lib/python3.6/dist-packages (from astroquery) (1.18.5)\n",
            "Requirement already satisfied, skipping upgrade: astropy>=3.1 in /usr/local/lib/python3.6/dist-packages (from astroquery) (4.1)\n",
            "Requirement already satisfied, skipping upgrade: requests>=2.4.3 in /usr/local/lib/python3.6/dist-packages (from astroquery) (2.23.0)\n",
            "Collecting keyring>=4.0\n",
            "  Downloading https://files.pythonhosted.org/packages/53/14/1c952bcd21255f42f9ba0280d3abd8074dca2c27d136eb749b98ab478f72/keyring-21.5.0-py3-none-any.whl\n",
            "Requirement already satisfied, skipping upgrade: beautifulsoup4>=4.3.2 in /usr/local/lib/python3.6/dist-packages (from astroquery) (4.6.3)\n",
            "Requirement already satisfied, skipping upgrade: html5lib>=0.999 in /usr/local/lib/python3.6/dist-packages (from astroquery) (1.0.1)\n",
            "Requirement already satisfied, skipping upgrade: six in /usr/local/lib/python3.6/dist-packages (from astroquery) (1.15.0)\n",
            "Requirement already satisfied, skipping upgrade: urllib3!=1.25.0,!=1.25.1,<1.26,>=1.21.1 in /usr/local/lib/python3.6/dist-packages (from requests>=2.4.3->astroquery) (1.24.3)\n",
            "Requirement already satisfied, skipping upgrade: chardet<4,>=3.0.2 in /usr/local/lib/python3.6/dist-packages (from requests>=2.4.3->astroquery) (3.0.4)\n",
            "Requirement already satisfied, skipping upgrade: idna<3,>=2.5 in /usr/local/lib/python3.6/dist-packages (from requests>=2.4.3->astroquery) (2.10)\n",
            "Requirement already satisfied, skipping upgrade: certifi>=2017.4.17 in /usr/local/lib/python3.6/dist-packages (from requests>=2.4.3->astroquery) (2020.12.5)\n",
            "Collecting jeepney>=0.4.2; sys_platform == \"linux\"\n",
            "\u001b[?25l  Downloading https://files.pythonhosted.org/packages/51/b0/a6ea72741aaac3f37fb96d195e4ee576a103c4c04e279bc6b446a70960e1/jeepney-0.6.0-py3-none-any.whl (45kB)\n",
            "\u001b[K     |████████████████████████████████| 51kB 5.2MB/s \n",
            "\u001b[?25hRequirement already satisfied, skipping upgrade: importlib-metadata>=1; python_version < \"3.8\" in /usr/local/lib/python3.6/dist-packages (from keyring>=4.0->astroquery) (3.1.1)\n",
            "Collecting SecretStorage>=3.2; sys_platform == \"linux\"\n",
            "  Downloading https://files.pythonhosted.org/packages/63/a2/a6d9099b14eb5dbbb04fb722d2b5322688f8f99b471bdf2097e33efa8091/SecretStorage-3.3.0-py3-none-any.whl\n",
            "Requirement already satisfied, skipping upgrade: webencodings in /usr/local/lib/python3.6/dist-packages (from html5lib>=0.999->astroquery) (0.5.1)\n",
            "Requirement already satisfied, skipping upgrade: zipp>=0.5 in /usr/local/lib/python3.6/dist-packages (from importlib-metadata>=1; python_version < \"3.8\"->keyring>=4.0->astroquery) (3.4.0)\n",
            "Collecting cryptography>=2.0\n",
            "\u001b[?25l  Downloading https://files.pythonhosted.org/packages/c9/de/7054df0620b5411ba45480f0261e1fb66a53f3db31b28e3aa52c026e72d9/cryptography-3.3.1-cp36-abi3-manylinux2010_x86_64.whl (2.6MB)\n",
            "\u001b[K     |████████████████████████████████| 2.6MB 55.0MB/s \n",
            "\u001b[?25hRequirement already satisfied, skipping upgrade: cffi>=1.12 in /usr/local/lib/python3.6/dist-packages (from cryptography>=2.0->SecretStorage>=3.2; sys_platform == \"linux\"->keyring>=4.0->astroquery) (1.14.4)\n",
            "Requirement already satisfied, skipping upgrade: pycparser in /usr/local/lib/python3.6/dist-packages (from cffi>=1.12->cryptography>=2.0->SecretStorage>=3.2; sys_platform == \"linux\"->keyring>=4.0->astroquery) (2.20)\n",
            "Building wheels for collected packages: astroquery\n",
            "  Building wheel for astroquery (setup.py) ... \u001b[?25l\u001b[?25hdone\n",
            "  Created wheel for astroquery: filename=astroquery-0.4.1-cp36-none-any.whl size=3831874 sha256=06ecf44056bdd17dbb2e6727887c6266584388ee3316d75e43e3543ebab20c29\n",
            "  Stored in directory: /root/.cache/pip/wheels/88/f8/b7/a254cd96e808f708bc0b7d755a8e095c56fbbe94099d7b464f\n",
            "Successfully built astroquery\n",
            "Installing collected packages: jeepney, cryptography, SecretStorage, keyring, astroquery\n",
            "Successfully installed SecretStorage-3.3.0 astroquery-0.4.1 cryptography-3.3.1 jeepney-0.6.0 keyring-21.5.0\n"
          ],
          "name": "stdout"
        }
      ]
    },
    {
      "cell_type": "code",
      "metadata": {
        "id": "myU3dSWLyKxp",
        "colab": {
          "base_uri": "https://localhost:8080/",
          "height": 1000
        },
        "outputId": "8545e5b3-5379-45d2-cfb0-20ba4f7cfb41"
      },
      "source": [
        "#!/usr/bin/env python\n",
        "import numpy as np\n",
        "import matplotlib.pyplot as plt\n",
        "import matplotlib.animation as animation\n",
        "import astropy\n",
        "from astropy.time import Time\n",
        "from astroquery.jplhorizons import Horizons\n",
        "\n",
        "sim_start_date = \"2020-12-14\"     # simulating a solar system starting from this date\n",
        "sim_duration = 2 * 365                # (int) simulation duration in days\n",
        "m_earth = 5.9722e24 / 1.98847e30  # Mass of Earth relative to mass of the sun\n",
        "m_moon = 7.3477e22 / 1.98847e30\n",
        "\n",
        "class Object:                   # define the objects: the Sun, Earth, Mercury, etc\n",
        "    def __init__(self, name, rad, color, r, v):\n",
        "        self.name = name\n",
        "        self.r    = np.array(r, dtype=np.float)\n",
        "        self.v    = np.array(v, dtype=np.float)\n",
        "        self.xs = []\n",
        "        self.ys = []\n",
        "        self.plot = ax.scatter(r[0], r[1], color=color, s=rad**2, edgecolors=None, zorder=10)\n",
        "        self.line, = ax.plot([], [], color=color, linewidth=1.4)\n",
        "\n",
        "class SolarSystem:\n",
        "\n",
        "    def __init__(self, thesun):\n",
        "        self.thesun = thesun\n",
        "        self.planets = []\n",
        "        self.time = None\n",
        "        self.timestamp = ax.text(.03, .94, 'Date: ', color='w', transform=ax.transAxes, fontsize='x-large')\n",
        "\n",
        "    def add_planet(self, planet):\n",
        "        self.planets.append(planet)\n",
        "\n",
        "    def evolve(self):           # evolve the trajectories\n",
        "        dt = 1.0\n",
        "        self.time += dt\n",
        "        plots = []\n",
        "        lines = []\n",
        "        \n",
        "        for p in self.planets:\n",
        "            p.r += p.v * dt\n",
        "            acc = -2.959e-4 * p.r / np.sum(p.r**2)**(3./2)  # in units of AU/day^2\n",
        "            p.v += acc * dt\n",
        "            p.xs.append(p.r[0])\n",
        "            p.ys.append(p.r[1])\n",
        "            p.plot.set_offsets(p.r[:2])\n",
        "            p.line.set_xdata(p.xs)\n",
        "            p.line.set_ydata(p.ys)\n",
        "            plots.append(p.plot)\n",
        "            lines.append(p.line)\n",
        "\n",
        "        self.timestamp.set_text('Date: ' + Time(self.time, format='jd', out_subfmt='date').iso)\n",
        "        return plots + lines + [self.timestamp]\n",
        "\n",
        "plt.style.use('dark_background')\n",
        "fig = plt.figure(figsize=[6, 6])\n",
        "\n",
        "ax = plt.axes([0., 0., 1., 1.], xlim=(-1.8, 1.8), ylim=(-1.8, 1.8))\n",
        "ax.set_aspect('equal')\n",
        "ax.axis('off')\n",
        "\n",
        "ss = SolarSystem(Object(\"Sun\", 28, 'red', [0, 0, 0], [0, 0, 0]))\n",
        "ss.time = Time(sim_start_date).jd\n",
        "\n",
        "colors = ['gray', 'orange', 'blue', 'chocolate']\n",
        "sizes = [0.38, 0.95, 1., 0.53]\n",
        "names = ['Mercury', 'Venus', 'Earth', 'Mars']\n",
        "texty = [.47, .73, 1, 1.5]\n",
        "\n",
        "for i, nasaid in enumerate([1, 2, 3, 4]):  # The 1st, 2nd, 3rd, 4th planet in solar system\n",
        "    obj = Horizons(id=nasaid, location=\"@sun\", epochs=ss.time, id_type='id').vectors()\n",
        "    ss.add_planet(Object(nasaid, 20 * sizes[i], colors[i], \n",
        "                         [np.double(obj[xi]) for xi in ['x', 'y', 'z']], \n",
        "                         [np.double(obj[vxi]) for vxi in ['vx', 'vy', 'vz']]))\n",
        "    ax.text(0, - (texty[i] + 0.1), names[i], color=colors[i], zorder=1000, ha='center', fontsize='large')\n",
        "\n",
        "def animate(i):\n",
        "    return ss.evolve()\n",
        "\n",
        "ani = animation.FuncAnimation(fig, animate, repeat=False, frames=sim_duration, blit=True, interval=20,)\n",
        "plt.show()\n",
        "# ani.save('solar_system_6in_150dpi.mp4', fps=60, dpi=150)"
      ],
      "execution_count": null,
      "outputs": [
        {
          "output_type": "stream",
          "text": [
            "Traceback (most recent call last):\n",
            "  File \"/usr/local/lib/python3.6/dist-packages/astropy/time/core.py\", line 548, in _get_time_fmt\n",
            "    return cls(val, val2, scale, precision, in_subfmt, out_subfmt)\n",
            "  File \"/usr/local/lib/python3.6/dist-packages/astropy/time/formats.py\", line 139, in __init__\n",
            "    self.out_subfmt = out_subfmt\n",
            "  File \"/usr/local/lib/python3.6/dist-packages/astropy/time/formats.py\", line 181, in out_subfmt\n",
            "    self._select_subfmts(subfmt)\n",
            "  File \"/usr/local/lib/python3.6/dist-packages/astropy/time/formats.py\", line 392, in _select_subfmts\n",
            "    raise ValueError(f'subformat {pattern!r} must match one of '\n",
            "ValueError: subformat 'date' must match one of ['float', 'long', 'decimal', 'str', 'bytes'] for format jd\n",
            "\n",
            "The above exception was the direct cause of the following exception:\n",
            "\n",
            "Traceback (most recent call last):\n",
            "  File \"/usr/local/lib/python3.6/dist-packages/matplotlib/cbook/__init__.py\", line 196, in process\n",
            "    func(*args, **kwargs)\n",
            "  File \"/usr/local/lib/python3.6/dist-packages/matplotlib/animation.py\", line 951, in _start\n",
            "    self._init_draw()\n",
            "  File \"/usr/local/lib/python3.6/dist-packages/matplotlib/animation.py\", line 1743, in _init_draw\n",
            "    self._draw_frame(next(self.new_frame_seq()))\n",
            "  File \"/usr/local/lib/python3.6/dist-packages/matplotlib/animation.py\", line 1766, in _draw_frame\n",
            "    self._drawn_artists = self._func(framedata, *self._args)\n",
            "  File \"<ipython-input-39-957a27aa5f51>\", line 79, in animate\n",
            "    return ss.evolve()\n",
            "  File \"<ipython-input-39-957a27aa5f51>\", line 53, in evolve\n",
            "    self.timestamp.set_text('Date: ' + Time(self.time, format='jd', out_subfmt='date').iso)\n",
            "  File \"/usr/local/lib/python3.6/dist-packages/astropy/time/core.py\", line 436, in __init__\n",
            "    precision, in_subfmt, out_subfmt)\n",
            "  File \"/usr/local/lib/python3.6/dist-packages/astropy/time/core.py\", line 491, in _init_from_vals\n",
            "    precision, in_subfmt, out_subfmt)\n",
            "  File \"/usr/local/lib/python3.6/dist-packages/astropy/time/core.py\", line 560, in _get_time_fmt\n",
            "    ) from err\n",
            "ValueError: Input values did not match the format class jd:\n",
            "ValueError: subformat 'date' must match one of ['float', 'long', 'decimal', 'str', 'bytes'] for format jd\n"
          ],
          "name": "stderr"
        },
        {
          "output_type": "display_data",
          "data": {
            "image/png": "[encoded data removed]",
            "text/plain": [
              "<Figure size 432x432 with 1 Axes>"
            ]
          },
          "metadata": {
            "tags": []
          }
        }
      ]
    },
    {
      "cell_type": "code",
      "metadata": {
        "colab": {
          "base_uri": "https://localhost:8080/"
        },
        "id": "Zw8vCnvnjnpa",
        "outputId": "44e97910-90bd-46a9-9949-f997ee2d8177"
      },
      "source": [
        "# 단어의 개수 \n",
        "# 문제는 간단합니다. 입력으로 주어진 문자열에 단어가 몇 개 있는지 출력하면 됩니다. \n",
        "\n",
        "# 약간의 트릭이 있는데요. 입력으로 주어지는 문자열 앞 뒤로 공백이 주어지기 때문에 앞 뒤로 주어지는 공백을 처리해줘야 합니다. \n",
        "\n",
        "# python에서는 앞 뒤 공백을 제거해주는 strip() 내장 함수가 있습니다.\n",
        "\n",
        "\n",
        "target = input().strip().split(' ')\n",
        "if target[0] == '':\n",
        "  print(0)\n",
        "else:\n",
        "  print(len(target))"
      ],
      "execution_count": null,
      "outputs": [
        {
          "output_type": "stream",
          "text": [
            "    \n",
            "0\n"
          ],
          "name": "stdout"
        }
      ]
    },
    {
      "cell_type": "code",
      "metadata": {
        "colab": {
          "base_uri": "https://localhost:8080/"
        },
        "id": "ultk5zIXKoxa",
        "outputId": "9f98765f-7535-4b29-a7cd-5f556460a1bb"
      },
      "source": [
        "# 아스키코드 활용 - 비효율\n",
        "target = input().split(' ')\n",
        "for i in range(0, len(target)):\n",
        "  if target[i] != ' ' and (target[i] >= chr(65) and target[i] <= chr(90)) or (target[i] >= chr(97) and target[i] <= chr(122)) :\n",
        "    print(len(target))\n",
        "    break\n"
      ],
      "execution_count": null,
      "outputs": [
        {
          "output_type": "stream",
          "text": [
            "s s  \n",
            "4\n"
          ],
          "name": "stdout"
        }
      ]
    },
    {
      "cell_type": "code",
      "metadata": {
        "colab": {
          "base_uri": "https://localhost:8080/"
        },
        "id": "VssYsjx7L0Dt",
        "outputId": "dbe43bd2-7519-4e88-ba9d-8e9c3af6e114"
      },
      "source": [
        "print(chr(97))\n",
        "print(chr(122))"
      ],
      "execution_count": null,
      "outputs": [
        {
          "output_type": "stream",
          "text": [
            "a\n",
            "z\n"
          ],
          "name": "stdout"
        }
      ]
    },
    {
      "cell_type": "code",
      "metadata": {
        "id": "nkV0PHOwyzzq"
      },
      "source": [
        "# 이 문제 역시 어렵지 않습니다. 문자가 주어지면 그 문자에 대한 아스키 코드를 출력하면 됩니다.\n",
        "\n",
        "# 처음에 python도 C나 C++처럼 문자를 입력받아 %d로 출력하면 되는줄 알고 그렇게 코딩을 하니 type error가 발생하였습니다.\n",
        "print(ord(input()))\n"
      ],
      "execution_count": null,
      "outputs": []
    },
    {
      "cell_type": "code",
      "metadata": {
        "id": "7p2Lule4y9Ag"
      },
      "source": [
        "# 알파벳 찾기\n",
        "# 문자가 주어지면 단어가 처음 등장하는 위치를 찾으면 됩니다. \n",
        "# 제가 python으로 문자열 처리를 연습하는 이유는 바로 python 내장함수 때문입니다. \n",
        "# 문자열을 처리를 유용하게 해주는 python 내장함수가 많습니다. 특히 이 문제에서 내장함수를 유용하게 사용하여서 문제를 풀 수 있었습니다. \n",
        "\n",
        "s = input()\n",
        "for _ in range(26):\n",
        "  print(s.find(chr(_+97)), end=\" \")"
      ],
      "execution_count": null,
      "outputs": []
    },
    {
      "cell_type": "code",
      "metadata": {
        "id": "QWdJZIoUzGyq",
        "colab": {
          "base_uri": "https://localhost:8080/"
        },
        "outputId": "ed2211fe-d0be-4d74-a6f8-d38ec3720238"
      },
      "source": [
        "# 단어공부\n",
        "\n",
        "input_word = input().upper()\n",
        "cnt = 0\n",
        "result_word = ''\n",
        "flag_bool = True\n",
        "for _ in range(26):\n",
        "    temp_word = input_word.count(chr(_+65))\n",
        "    if temp_word > cnt:\n",
        "        flag_bool = True\n",
        "        cnt = temp_word\n",
        "        result_word = chr(_+65)\n",
        "    elif temp_word == cnt:\n",
        "        flag_bool = False\n",
        "if flag_bool == False:\n",
        "    print(\"?\")\n",
        "else:\n",
        "    print(result_word)\n",
        "\n",
        "# 코드를 간단히 설명하면, 우선 출력이 대문자로 되어야 하기 때문에 주어진 입력을 대문자로 변경해주었습니다.\n",
        "\n",
        "# 이후 3번에서 사용했던 chr을 이용하여 단어들을 각각 count 하면서 max값을 찾고 같은 값이 있다면 flag를 이용하여 표시해주었습니다.\n",
        "\n",
        "# count()라는 내장함수를 사용하여 문자열에서 해당 단어가 몇 번 등장하는지 알 수 있었습니다."
      ],
      "execution_count": null,
      "outputs": [
        {
          "output_type": "stream",
          "text": [
            "asdfjljfASVDDD\n",
            "D\n"
          ],
          "name": "stdout"
        }
      ]
    },
    {
      "cell_type": "code",
      "metadata": {
        "id": "7LT-NuZKzW4J"
      },
      "source": [
        "# 방 번호 \n",
        "# 정답률은 낮지만 어려운 문제는 아닙니다. \n",
        "# 하나의 트릭만 있는데요 바로 6과 9를 같이 사용할 수 있다는 것입니다.\n",
        "# 이 부분만 처리 해주면 되는데요. 저는 카운트를 할때 9가 나오면 6의 카운트를 증가시켜주는 것으로 처리하였습니다.\n",
        "\n",
        "arr = [0]*9\n",
        "for i in input():\n",
        "  if i == '9':\n",
        "    arr[6] += 1\n",
        "  else:\n",
        "    arr[int(i)] += 1\n",
        "arr[6] = (arr[6]+1)//2\n",
        "print(max(arr))\n",
        "\n",
        "# 코드를 간단하게 설명하면\n",
        "\n",
        "# arr = [0] * 9 는 리스트를 초기화 해주는 방법 중의 하나로 0으로 초기화된 크기 9의 리스트를 선언한 것입니다.\n",
        "\n",
        "# 이런 방법으로 리스트를 초기화 하는 방법을 일반화 하면 mylist = [value] * size 입니다. \n",
        "\n",
        "# 다음 9가 나오면 6번 리스트의 값을 증가시켜주는 방법으로 처리해주었습니다. 이후 arr 리스트의 최대값을 출력 해주면 됩니다.\n",
        "\n",
        "# // 연산은 정수값을 출력하기 위함입니다. / 연산을 사용하면 실수형으로 결과가 반환됩니다. \n",
        "\n",
        "# // 연산 전에 +1 을 해준 이유는 짝,홀수를 처리해주기 위함입니다.\n",
        "#  예를 들어 6이 3번 9가 2번 나왔다면 결과는 3이 나와야 합니다. \n",
        "# 이 때 두 개의 값을 더해주면 5번으로 홀수가 되는데요. \n",
        "# 이를 2로 나눠주게 되면 2가 나오기 때문에 제대로 된 결과를 출력시키기 위해 1을 더해줍니다.\n"
      ],
      "execution_count": null,
      "outputs": []
    },
    {
      "cell_type": "code",
      "metadata": {
        "id": "j9P-2rhgzsJI"
      },
      "source": [
        "# 가장 많은 글자\n",
        "\n",
        "# 바로 입력이 이렇게 여러 문장으로 주어지기 때문에 input()으로 처리하는데는 한계가 있었다.\n",
        "# 여러 방법을 찾아보다가 sys.stdin.read() 함수를 찾아냈다.\n",
        "# 이 함수를 조금 더 알아보다가 input()보다 훨씬 빠른 시간내에 처리해준다는 장점도 있는 것을 알아냈다.\n",
        "#  앞으로는 input 대신 이 함수를 사용하려고 합니다.\n",
        "# 입력만 잘 받으면 문제를 푸는 것은 어렵지 않습니다.\n",
        "# 입력 받은 문장을 한 단어씩 돌면서 카운트를 해주고 마지막으로 가장 많이 출현한 단어를 출력해주면 됩니다.\n",
        "\n",
        "import sys\n",
        "line, word = sys.stdin.read(), [0]*26\n",
        "for s in line:\n",
        "    if s.islower():\n",
        "        word[ord(s)-97] += 1\n",
        "for i in range(26):\n",
        "    if word[i] == max(word):\n",
        "        print(chr(i+97), end='')\n",
        "\n",
        "# 위에서 설명한 것 처럼 sys.stdin.read()를 사용하여 여러 문장을 입력 받습니다.\n",
        "# 2번 라인에서 볼 수 있듯이 여러 변수를 , 를 이용하여 한 문장내에서 선언해줄 수 있습니다.\n",
        "# for 문을 이용하여 입력받은 문자열을 한 문자씩 살펴보면서 소문자이면 word 리스트에 해당 인덱스에 카운트를 증가 시켜줍니다.\n",
        "# 두 번째 for문은 word 리스트를 돌면서 가장 많이 출연한 인덱스를 찾아 문자로 출력해줍니다. \n",
        "\n",
        "\n",
        "\n",
        "# [0] * 26, ord, chr은 모두 위의 문제들을 풀면서 사용했던 것이기 때문에 설명은 생략하도록 하겠습니다.\n",
        "#  이 문제에서 처음 사용한 함수는 sys.stdin.read() 와 islower() 였습니다. \n"
      ],
      "execution_count": null,
      "outputs": []
    },
    {
      "cell_type": "code",
      "metadata": {
        "colab": {
          "base_uri": "https://localhost:8080/"
        },
        "id": "l0f4_AToCJ03",
        "outputId": "12356bdf-460b-48bb-cd40-f97499dfc872"
      },
      "source": [
        "price = int(input('물건값을 입력하세요.'))\n",
        "\n",
        "change = 1000 - price\n",
        "coin = [500, 100, 50]\n",
        "\n",
        "amount = []\n",
        "while change != 0:\n",
        "    for i in coin:\n",
        "        r = 0\n",
        "        r = r + (change // i)\n",
        "        amount.append(r)\n",
        "        change = change - (r * i)\n",
        "print('잔돈갯수 :',sum(amount))"
      ],
      "execution_count": null,
      "outputs": [
        {
          "output_type": "stream",
          "text": [
            "물건값을 입력하세요.100\n",
            "잔돈갯수 : 5\n"
          ],
          "name": "stdout"
        }
      ]
    },
    {
      "cell_type": "code",
      "metadata": {
        "id": "G9L5iZg3OpzN"
      },
      "source": [
        "### 테스트용\n",
        "price = int(input('물건값을 입력하세요.'))\n",
        "\n",
        "change = 1000 - price\n",
        "coin_list = [500, 100, 50]\n",
        "\n",
        "change_count = []   # 잔돈갯수\n",
        "list1 = []    # append활용해서 잔돈내역 출력해보기 테스트\n",
        "while change != 0:\n",
        "    for coin in coin_list:    # 이 부분을 오해하지 말아야한다.(리스트에 대한 반복문이다.)\n",
        "        change_bool = 0\n",
        "        \n",
        "        change_bool = change_bool + (change // coin)\n",
        "\n",
        "        change_count.append(change_bool)\n",
        "\n",
        "        change = change - (change_bool * coin)\n",
        "        \n",
        "        if change_bool == 1:\n",
        "          print('받은 잔돈 : ',coin)\n",
        "          print(list1.append(change))   # append로 테스트해보기\n",
        "\n",
        "print('잔돈갯수 :',sum(change_count)) # 잔돈의 갯수를 합한다.(sum 내장함수 활용)"
      ],
      "execution_count": null,
      "outputs": []
    },
    {
      "cell_type": "code",
      "metadata": {
        "id": "Hr4xFKCLtY7_"
      },
      "source": [
        "class Human:\n",
        "    def __init__(self, name, age):\n",
        "        self.name = name\n",
        "        self.age = age\n",
        "\n",
        "    def __repr__(self):\n",
        "        return f\"<Human: {self.name}, {self.age}>\"\n",
        "\n",
        "# 아래 humans에 할당된 list object는 다음과 같다.\n",
        "# Human(\"이름\", 연령)\n",
        "humans = [\n",
        "    Human(\"Alice\", 29),\n",
        "    Human(\"Bob\", 32),\n",
        "    Human(\"Charlie\", 37),\n",
        "    Human(\"Daphne\", 30),\n",
        "    Human(\"Eve\", 26),\n",
        "    Human(\"Frank\", 18),\n",
        "    Human(\"Glenn\", 42),\n",
        "    Human(\"Harrison\", 12),\n",
        "    Human(\"Igon\", 41),\n",
        "    Human(\"David\", 31),\n",
        "]"
      ],
      "execution_count": null,
      "outputs": []
    },
    {
      "cell_type": "code",
      "metadata": {
        "colab": {
          "base_uri": "https://localhost:8080/"
        },
        "id": "lJv_5g-0FsPa",
        "outputId": "3bf46926-a2f3-4cc3-df5f-145afe929dec"
      },
      "source": [
        "print(\"Starts between C and G, inclusive:\")\n",
        "c = [Human.name for Human in humans \n",
        "if ord(Human.name[0])>=ord('C') and ord(Human.name[0]) <= ord('G')]\n",
        "print(c)"
      ],
      "execution_count": null,
      "outputs": [
        {
          "output_type": "stream",
          "text": [
            "Starts between C and G, inclusive:\n",
            "['Charlie', 'Daphne', 'Eve', 'Frank', 'Glenn', 'David']\n"
          ],
          "name": "stdout"
        }
      ]
    },
    {
      "cell_type": "code",
      "metadata": {
        "colab": {
          "base_uri": "https://localhost:8080/"
        },
        "id": "siNRCzpVtWav",
        "outputId": "be67d21b-4110-4701-ad13-5bc086fdc52d"
      },
      "source": [
        "print(\"All names uppercase:\")\n",
        "#g = [(human.name.upper(), human.age+5) for human in humans]\n",
        "g = [Human(a.name.upper(), a.age+5) for a in humans]\n",
        "g1 = humans\n",
        "print(g)\n",
        "print(g1)"
      ],
      "execution_count": null,
      "outputs": [
        {
          "output_type": "stream",
          "text": [
            "All names uppercase:\n",
            "[<Human: ALICE, 34>, <Human: BOB, 37>, <Human: CHARLIE, 42>, <Human: DAPHNE, 35>, <Human: EVE, 31>, <Human: FRANK, 23>, <Human: GLENN, 47>, <Human: HARRISON, 17>, <Human: IGON, 46>, <Human: DAVID, 36>]\n",
            "[<Human: Alice, 29>, <Human: Bob, 32>, <Human: Charlie, 37>, <Human: Daphne, 30>, <Human: Eve, 26>, <Human: Frank, 18>, <Human: Glenn, 42>, <Human: Harrison, 12>, <Human: Igon, 41>, <Human: David, 31>]\n"
          ],
          "name": "stdout"
        }
      ]
    },
    {
      "cell_type": "code",
      "metadata": {
        "colab": {
          "base_uri": "https://localhost:8080/"
        },
        "id": "Pq309u6gxnYT",
        "outputId": "41e0956c-832c-4e9b-8a6c-9f52de15fd51"
      },
      "source": [
        "print(\"Square root of ages:\")\n",
        "import math\n",
        "h = [round(math.sqrt(human.age), 2) for human in humans]\n",
        "print(h)"
      ],
      "execution_count": null,
      "outputs": [
        {
          "output_type": "stream",
          "text": [
            "Square root of ages:\n",
            "[5.39, 5.66, 6.08, 5.48, 5.1, 4.24, 6.48, 3.46, 6.4, 5.57]\n"
          ],
          "name": "stdout"
        }
      ]
    },
    {
      "cell_type": "code",
      "metadata": {
        "colab": {
          "base_uri": "https://localhost:8080/"
        },
        "id": "L8yPME5W1Dg8",
        "outputId": "af2bb70d-8f49-4d60-9847-250d784e2dfe"
      },
      "source": [
        "# To the GroundVehicle class, add method drive() that returns \"vroooom\".\n",
        "#\n",
        "# Also change it so the num_wheels defaults to 4 if not specified when the\n",
        "# object is constructed.\n",
        "\n",
        "class GroundVehicle:\n",
        "    def __init__(self, num_wheels=4):\n",
        "        self.num_wheels = num_wheels\n",
        "\n",
        "    # TODO\n",
        "    def drive(self):\n",
        "        return 'vroooom'\n",
        "\n",
        "\n",
        "# Subclass Motorcycle from GroundVehicle.\n",
        "#\n",
        "# Make it so when you instantiate a Motorcycle, it automatically sets the number\n",
        "# of wheels to 2 by passing that to the constructor of its superclass.\n",
        "#\n",
        "# Override the drive() method in Motorcycle so that it returns \"BRAAAP!!\"\n",
        "\n",
        "# TODO\n",
        "class Motorcycle(GroundVehicle):\n",
        "    def __init__(self):\n",
        "        super().__init__(2)\n",
        "\n",
        "    def drive(self):\n",
        "        return \"BRAAAP\"\n",
        "\n",
        "vehicles = [\n",
        "    GroundVehicle(),\n",
        "    GroundVehicle(),\n",
        "    Motorcycle(),\n",
        "    GroundVehicle(),\n",
        "    Motorcycle(),\n",
        "]\n",
        "\n",
        "# Go through the vehicles list and print the result of calling drive() on each.\n",
        "\n",
        "# TODO\n",
        "for vehicle in vehicles:\n",
        "    print(vehicle.drive())"
      ],
      "execution_count": null,
      "outputs": [
        {
          "output_type": "stream",
          "text": [
            "vroooom\n",
            "vroooom\n",
            "BRAAAP\n",
            "vroooom\n",
            "BRAAAP\n"
          ],
          "name": "stdout"
        }
      ]
    },
    {
      "cell_type": "code",
      "metadata": {
        "id": "iksSNclx1Gaw"
      },
      "source": [
        "# Write classes for the following class hierarchy:\n",
        "#\n",
        "#  [Vehicle]->[FlightVehicle]->[Starship]\n",
        "#      |                |\n",
        "#      v                v\n",
        "# [GroundVehicle]      [Airplane]\n",
        "#   |       |\n",
        "#   v       v\n",
        "# [Car]  [Motorcycle]\n",
        "#\n",
        "# Each class can simply \"pass\" for its body. The exercise is about setting up\n",
        "# the hierarchy.\n",
        "#\n",
        "# e.g.\n",
        "#\n",
        "# class Whatever:\n",
        "#     pass\n",
        "#\n",
        "# Put a comment noting which class is the base class\n",
        "class Vehicle:\n",
        "    pass\n",
        "\n",
        "class FlightVehicle(Vehicle):\n",
        "    pass\n",
        "\n",
        "class Starship:\n",
        "    pass\n",
        "\n",
        "class GroundVehicle(Vehicle):\n",
        "    pass\n",
        "\n",
        "class Airplane(FlightVehicle):\n",
        "    pass\n",
        "\n",
        "class Car(GroundVehicle):\n",
        "    pass\n",
        "\n",
        "class Motorcycle(GroundVehicle):\n",
        "    pass \n"
      ],
      "execution_count": null,
      "outputs": []
    },
    {
      "cell_type": "code",
      "metadata": {
        "colab": {
          "base_uri": "https://localhost:8080/"
        },
        "id": "oUh_7GkquwnH",
        "outputId": "2e1b855f-1cd2-4c88-819a-7b95dcaed691"
      },
      "source": [
        "i=0\n",
        "test_num = int(input())\n",
        "\n",
        "t = test_num\n",
        "\n",
        "for i in range(i,test_num+1):\n",
        "    print(t-test_num)\n",
        "    test_num = test_num - 1\n"
      ],
      "execution_count": null,
      "outputs": [
        {
          "output_type": "stream",
          "text": [
            "3\n",
            "0\n",
            "1\n",
            "2\n",
            "3\n"
          ],
          "name": "stdout"
        }
      ]
    },
    {
      "cell_type": "code",
      "metadata": {
        "id": "EBuuTNR8ztEy"
      },
      "source": [
        "import math\n",
        "\n",
        "center = 10\n",
        "height = 20\n",
        "\n",
        "value = []\n",
        "\n",
        "# 문자열값을 입력받음\n",
        "#items=[string for string in input().split(',')]\n",
        "items = input()\n",
        "# element = 1부터 시작함\n",
        "for element in items:\n",
        "    value.append(\n",
        "        str(\n",
        "            int(\n",
        "                round(\n",
        "                    math.sqrt(\n",
        "                        2 * center * float(element) / height\n",
        "                        )\n",
        "                    )\n",
        "                )\n",
        "            )\n",
        "        )\n",
        "print(items,element)\n",
        "print(','.join(value))"
      ],
      "execution_count": null,
      "outputs": []
    },
    {
      "cell_type": "code",
      "metadata": {
        "colab": {
          "base_uri": "https://localhost:8080/"
        },
        "id": "IooZZbTrD7l_",
        "outputId": "b9980ff9-a239-4d45-a93f-ac7a11c7e9c3"
      },
      "source": [
        "# 2-2) 2개의 문장을 입력받고, 두 문장을 비교하여 두번째 문장에 추가된 단어를 찾는 코드를 구현하세요.\n",
        "\n",
        "test_str1 = input(\"첫번째 문장입력 : \")\n",
        "test_str2 = input(\"두번째 문장입력 : \")\n",
        "\n",
        "def added_word(test_str1, test_str2):\n",
        "    test_dict = {}\n",
        "    \n",
        "    for word in test_str1.split(' '):   # 첫번째 문장\n",
        "        if word in test_dict:\n",
        "            test_dict[word] += 1\n",
        "        else:\n",
        "            test_dict[word] = 1\n",
        "\n",
        "    for word in test_str2.split(' '):   # 두번째 문장\n",
        "        if word in test_dict:\n",
        "            test_dict[word] -= 1\n",
        "        else:\n",
        "            return word\n",
        "\n",
        "\n",
        "print(\"추가된 단어 : \",added_word(test_str1, test_str2))"
      ],
      "execution_count": null,
      "outputs": [
        {
          "output_type": "stream",
          "text": [
            "첫번째 문장입력 : the best you have\n",
            "두번째 문장입력 : the best you\n",
            "word: have test_dict: {'the': 1, 'best': 1, 'you': 1, 'have': 1}\n",
            "word: you test_dict: {'the': 0, 'best': 0, 'you': 0, 'have': 1}\n",
            "추가된 단어 :  None\n"
          ],
          "name": "stdout"
        }
      ]
    },
    {
      "cell_type": "code",
      "metadata": {
        "colab": {
          "base_uri": "https://localhost:8080/"
        },
        "id": "oYuJvUrZH51w",
        "outputId": "c908ba4f-eab4-4b74-f6ff-f35e15cb53fa"
      },
      "source": [
        "# 2-2) 2개의 문장을 입력받고, 두 문장을 비교하여 두번째 문장에 추가된 단어를 찾는 코드를 구현하세요.\n",
        "\n",
        "test_str1 = input(\"첫번째 문장입력 : \")\n",
        "test_str2 = input(\"두번째 문장입력 : \")\n",
        "\n",
        "def added_word(test_str1, test_str2):\n",
        "    test_dict = {}\n",
        "    \n",
        "    for word in test_str1.split(' '):   # 첫번째 문장\n",
        "        if word in test_dict:\n",
        "            test_dict[word] += 1\n",
        "        else:\n",
        "            test_dict[word] = 1\n",
        "\n",
        "    for word in test_str2.split(' '):   # 두번째 문장\n",
        "        if word in test_dict:\n",
        "            test_dict[word] -= 1\n",
        "        else:\n",
        "            print(word)\n",
        "            return word\n",
        "\n",
        "\n",
        "print(\"추가된 단어 : \", added_word(test_str1, test_str2))"
      ],
      "execution_count": null,
      "outputs": [
        {
          "output_type": "stream",
          "text": [
            "첫번째 문장입력 : the best\n",
            "두번째 문장입력 : the best is the\n",
            "is\n",
            "추가된 단어 :  is\n"
          ],
          "name": "stdout"
        }
      ]
    },
    {
      "cell_type": "code",
      "metadata": {
        "colab": {
          "base_uri": "https://localhost:8080/"
        },
        "id": "J32FiL8iugR8",
        "outputId": "e7c040d4-1f1f-42ee-8f73-5b7006f33341"
      },
      "source": [
        "# Random Password Generator\n",
        "import random\n",
        "import string\n",
        "\n",
        "total = string.ascii_letters + string.digits + string.punctuation\n",
        "\n",
        "length = 16\n",
        "\n",
        "password = \"\".join(random.sample(total, length))\n",
        "\n",
        "print(password)"
      ],
      "execution_count": null,
      "outputs": [
        {
          "output_type": "stream",
          "text": [
            ">=&vPAqWT@Y-c^;6\n"
          ],
          "name": "stdout"
        }
      ]
    },
    {
      "cell_type": "code",
      "metadata": {
        "colab": {
          "base_uri": "https://localhost:8080/"
        },
        "id": "UFqkKrtLvKoe",
        "outputId": "4768d56b-3b0c-4ad5-dac3-c314e85b6603"
      },
      "source": [
        "# Random Password Generator\n",
        "import random\n",
        "import math\n",
        "\n",
        "alpha = \"abcdefghijklmnopqrstuvwxyz\"\n",
        "num = \"0123456789\"\n",
        "special = \"!@#$%^\"\n",
        "\n",
        "# pass_len=random.randint(8,13)  #without User INput\n",
        "pass_len = int(input(\"Enter Password Length\"))\n",
        "\n",
        "# length of password by 50-30-20 formula\n",
        "alpha_len = pass_len//2\n",
        "num_len = math.ceil(pass_len*30/100)\n",
        "special_len = pass_len-(alpha_len+num_len)\n",
        "\n",
        "\n",
        "password = []\n",
        "\n",
        "\n",
        "def generate_pass(length, array, is_alpha=False):\n",
        "    for i in range(length):\n",
        "        index = random.randint(0, len(array) - 1)\n",
        "        character = array[index]\n",
        "        if is_alpha:\n",
        "            case = random.randint(0, 1)\n",
        "            if case == 1:\n",
        "                character = character.upper()\n",
        "        password.append(character)\n",
        "\n",
        "\n",
        "# alpha password\n",
        "generate_pass(alpha_len, alpha, True)\n",
        "\n",
        "# numeric password\n",
        "generate_pass(num_len, num)\n",
        "\n",
        "# special Character password\n",
        "generate_pass(special_len, special)\n",
        "\n",
        "# suffle the generated password list\n",
        "random.shuffle(password)\n",
        "\n",
        "# convert List To string\n",
        "gen_password = \"\"\n",
        "\n",
        "for i in password:\n",
        "    gen_password = gen_password + str(i)\n",
        "print(gen_password)"
      ],
      "execution_count": null,
      "outputs": [
        {
          "output_type": "stream",
          "text": [
            "Enter Password Length6\n",
            "SW5w!9\n"
          ],
          "name": "stdout"
        }
      ]
    }
  ]
}