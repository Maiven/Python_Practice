{
  "nbformat": 4,
  "nbformat_minor": 0,
  "metadata": {
    "colab": {
      "name": "Baseball.ipynb",
      "provenance": [],
      "authorship_tag": "ABX9TyM5D35F0lP3pYKGlFrQGWrD",
      "include_colab_link": true
    },
    "kernelspec": {
      "name": "python3",
      "display_name": "Python 3"
    }
  },
  "cells": [
    {
      "cell_type": "markdown",
      "metadata": {
        "id": "view-in-github",
        "colab_type": "text"
      },
      "source": [
        "<a href=\"https://colab.research.google.com/github/Maiven/Python/blob/master/Baseball.ipynb\" target=\"_parent\"><img src=\"https://colab.research.google.com/assets/colab-badge.svg\" alt=\"Open In Colab\"/></a>"
      ]
    },
    {
      "cell_type": "code",
      "metadata": {
        "id": "bKxi43UHoxvD",
        "colab_type": "code",
        "colab": {
          "base_uri": "https://localhost:8080/",
          "height": 134
        },
        "outputId": "e9eefb3f-db3c-42e6-b45c-ad1f18d1c1c3"
      },
      "source": [
        "   import random as rn   \n",
        "    # 게임을 위한 랜덤 숫자 생성\n",
        "    rn = [\"0\", \"0\", \"0\"]\n",
        "    rn[0] = str(random.randrange(1, 9, 1))\n",
        "    rn[1] = rn[0]\n",
        "    rn[2] = rn[0]\n",
        "    while (rn[0] == rn[1]):\n",
        "        rn[1] = str(random.randrange(1, 9, 1))\n",
        "    while (rn[0] == rn[2] or rn[1] == rn[2]):\n",
        "        rn[2] = str(random.randrange(1, 9, 1))\n",
        "\n",
        "    #print(rn)\n",
        "\n",
        "    t_cnt = 0 # 시도횟수\n",
        "    s_cnt = 0 # 스트라이크 갯수\n",
        "    b_cnt = 0 # 볼 갯수\n",
        "\n",
        "    print(\"숫자야구게임을 시작합니다 !!!\")\n",
        "    print(\"---------------------------\")\n",
        "    while ( s_cnt < 3 ):\n",
        "\n",
        "        num = str(input(\"숫자 3자리를 입력하세요 : \"))\n",
        "\n",
        "        s_cnt = 0\n",
        "        b_cnt = 0\n",
        "\n",
        "        for i in range(0, 3):\n",
        "            for j in range(0, 3):\n",
        "                if(num[i] == str(rn[j]) and i == j):\n",
        "                    s_cnt += 1\n",
        "                elif(num[i] == str(rn[j]) and i != j):\n",
        "                    b_cnt += 1\n",
        "        print(\"결과 : [\", s_cnt, \"] Strike [\", b_cnt, \"] Ball\")\n",
        "        t_cnt += 1\n",
        "    print(\"---------------------------\")\n",
        "    print(t_cnt, \"번 만에 정답을 맞추셨습니다.\")"
      ],
      "execution_count": 2,
      "outputs": [
        {
          "output_type": "error",
          "ename": "IndentationError",
          "evalue": "ignored",
          "traceback": [
            "\u001b[0;36m  File \u001b[0;32m\"<ipython-input-2-5ac759ff6d1b>\"\u001b[0;36m, line \u001b[0;32m3\u001b[0m\n\u001b[0;31m    rn = [\"0\", \"0\", \"0\"]\u001b[0m\n\u001b[0m    ^\u001b[0m\n\u001b[0;31mIndentationError\u001b[0m\u001b[0;31m:\u001b[0m unexpected indent\n"
          ]
        }
      ]
    }
  ]
}